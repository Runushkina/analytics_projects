{
 "cells": [
  {
   "cell_type": "markdown",
   "metadata": {
    "id": "E0vqbgi9ay0H"
   },
   "source": [
    "# Яндекс.Музыка"
   ]
  },
  {
   "cell_type": "markdown",
   "metadata": {
    "id": "VUC88oWjTJw2"
   },
   "source": [
    "Сравнение Москвы и Петербурга окружено мифами. Например:\n",
    " * Москва — мегаполис, подчинённый жёсткому ритму рабочей недели;\n",
    " * Петербург — культурная столица, со своими вкусами.\n",
    "\n",
    "На данных Яндекс.Музыки вы сравните поведение пользователей двух столиц.\n",
    "\n",
    "**Цель исследования** — проверьте три гипотезы:\n",
    "1. Активность пользователей зависит от дня недели. Причём в Москве и Петербурге это проявляется по-разному.\n",
    "2. В понедельник утром в Москве преобладают одни жанры, а в Петербурге — другие. Так же и вечером пятницы преобладают разные жанры — в зависимости от города. \n",
    "3. Москва и Петербург предпочитают разные жанры музыки. В Москве чаще слушают поп-музыку, в Петербурге — русский рэп.\n",
    "\n",
    "**Ход исследования**\n",
    " 1. Обзор данных.\n",
    " 2. Предобработка данных.\n",
    " 3. Проверка гипотез.\n",
    "\n"
   ]
  },
  {
   "cell_type": "markdown",
   "metadata": {
    "id": "Ml1hmfXC_Zcs"
   },
   "source": [
    "## Обзор данных\n",
    "\n",
    "Составьте первое представление о данных Яндекс.Музыки.\n",
    "\n",
    "\n"
   ]
  },
  {
   "cell_type": "code",
   "execution_count": 1,
   "metadata": {
    "id": "AXN7PHPN_Zcs"
   },
   "outputs": [],
   "source": [
    "# импорт библиотеки pandas\n",
    "import pandas as pd "
   ]
  },
  {
   "cell_type": "code",
   "execution_count": 7,
   "metadata": {
    "id": "fFVu7vqh_Zct"
   },
   "outputs": [],
   "source": [
    "# чтение файла с данными и сохранение в df\n",
    "df = pd.read_csv('datasets/yandex_music_project.csv') "
   ]
  },
  {
   "cell_type": "code",
   "execution_count": 8,
   "metadata": {
    "id": "oWTVX3gW_Zct"
   },
   "outputs": [
    {
     "data": {
      "text/html": [
       "<div>\n",
       "<style scoped>\n",
       "    .dataframe tbody tr th:only-of-type {\n",
       "        vertical-align: middle;\n",
       "    }\n",
       "\n",
       "    .dataframe tbody tr th {\n",
       "        vertical-align: top;\n",
       "    }\n",
       "\n",
       "    .dataframe thead th {\n",
       "        text-align: right;\n",
       "    }\n",
       "</style>\n",
       "<table border=\"1\" class=\"dataframe\">\n",
       "  <thead>\n",
       "    <tr style=\"text-align: right;\">\n",
       "      <th></th>\n",
       "      <th>userID</th>\n",
       "      <th>Track</th>\n",
       "      <th>artist</th>\n",
       "      <th>genre</th>\n",
       "      <th>City</th>\n",
       "      <th>time</th>\n",
       "      <th>Day</th>\n",
       "    </tr>\n",
       "  </thead>\n",
       "  <tbody>\n",
       "    <tr>\n",
       "      <th>0</th>\n",
       "      <td>FFB692EC</td>\n",
       "      <td>Kamigata To Boots</td>\n",
       "      <td>The Mass Missile</td>\n",
       "      <td>rock</td>\n",
       "      <td>Saint-Petersburg</td>\n",
       "      <td>20:28:33</td>\n",
       "      <td>Wednesday</td>\n",
       "    </tr>\n",
       "    <tr>\n",
       "      <th>1</th>\n",
       "      <td>55204538</td>\n",
       "      <td>Delayed Because of Accident</td>\n",
       "      <td>Andreas Rönnberg</td>\n",
       "      <td>rock</td>\n",
       "      <td>Moscow</td>\n",
       "      <td>14:07:09</td>\n",
       "      <td>Friday</td>\n",
       "    </tr>\n",
       "    <tr>\n",
       "      <th>2</th>\n",
       "      <td>20EC38</td>\n",
       "      <td>Funiculì funiculà</td>\n",
       "      <td>Mario Lanza</td>\n",
       "      <td>pop</td>\n",
       "      <td>Saint-Petersburg</td>\n",
       "      <td>20:58:07</td>\n",
       "      <td>Wednesday</td>\n",
       "    </tr>\n",
       "    <tr>\n",
       "      <th>3</th>\n",
       "      <td>A3DD03C9</td>\n",
       "      <td>Dragons in the Sunset</td>\n",
       "      <td>Fire + Ice</td>\n",
       "      <td>folk</td>\n",
       "      <td>Saint-Petersburg</td>\n",
       "      <td>08:37:09</td>\n",
       "      <td>Monday</td>\n",
       "    </tr>\n",
       "    <tr>\n",
       "      <th>4</th>\n",
       "      <td>E2DC1FAE</td>\n",
       "      <td>Soul People</td>\n",
       "      <td>Space Echo</td>\n",
       "      <td>dance</td>\n",
       "      <td>Moscow</td>\n",
       "      <td>08:34:34</td>\n",
       "      <td>Monday</td>\n",
       "    </tr>\n",
       "    <tr>\n",
       "      <th>5</th>\n",
       "      <td>842029A1</td>\n",
       "      <td>Преданная</td>\n",
       "      <td>IMPERVTOR</td>\n",
       "      <td>rusrap</td>\n",
       "      <td>Saint-Petersburg</td>\n",
       "      <td>13:09:41</td>\n",
       "      <td>Friday</td>\n",
       "    </tr>\n",
       "    <tr>\n",
       "      <th>6</th>\n",
       "      <td>4CB90AA5</td>\n",
       "      <td>True</td>\n",
       "      <td>Roman Messer</td>\n",
       "      <td>dance</td>\n",
       "      <td>Moscow</td>\n",
       "      <td>13:00:07</td>\n",
       "      <td>Wednesday</td>\n",
       "    </tr>\n",
       "    <tr>\n",
       "      <th>7</th>\n",
       "      <td>F03E1C1F</td>\n",
       "      <td>Feeling This Way</td>\n",
       "      <td>Polina Griffith</td>\n",
       "      <td>dance</td>\n",
       "      <td>Moscow</td>\n",
       "      <td>20:47:49</td>\n",
       "      <td>Wednesday</td>\n",
       "    </tr>\n",
       "    <tr>\n",
       "      <th>8</th>\n",
       "      <td>8FA1D3BE</td>\n",
       "      <td>И вновь продолжается бой</td>\n",
       "      <td>NaN</td>\n",
       "      <td>ruspop</td>\n",
       "      <td>Moscow</td>\n",
       "      <td>09:17:40</td>\n",
       "      <td>Friday</td>\n",
       "    </tr>\n",
       "    <tr>\n",
       "      <th>9</th>\n",
       "      <td>E772D5C0</td>\n",
       "      <td>Pessimist</td>\n",
       "      <td>NaN</td>\n",
       "      <td>dance</td>\n",
       "      <td>Saint-Petersburg</td>\n",
       "      <td>21:20:49</td>\n",
       "      <td>Wednesday</td>\n",
       "    </tr>\n",
       "  </tbody>\n",
       "</table>\n",
       "</div>"
      ],
      "text/plain": [
       "     userID                        Track            artist   genre  \\\n",
       "0  FFB692EC            Kamigata To Boots  The Mass Missile    rock   \n",
       "1  55204538  Delayed Because of Accident  Andreas Rönnberg    rock   \n",
       "2    20EC38            Funiculì funiculà       Mario Lanza     pop   \n",
       "3  A3DD03C9        Dragons in the Sunset        Fire + Ice    folk   \n",
       "4  E2DC1FAE                  Soul People        Space Echo   dance   \n",
       "5  842029A1                    Преданная         IMPERVTOR  rusrap   \n",
       "6  4CB90AA5                         True      Roman Messer   dance   \n",
       "7  F03E1C1F             Feeling This Way   Polina Griffith   dance   \n",
       "8  8FA1D3BE     И вновь продолжается бой               NaN  ruspop   \n",
       "9  E772D5C0                    Pessimist               NaN   dance   \n",
       "\n",
       "             City        time        Day  \n",
       "0  Saint-Petersburg  20:28:33  Wednesday  \n",
       "1            Moscow  14:07:09     Friday  \n",
       "2  Saint-Petersburg  20:58:07  Wednesday  \n",
       "3  Saint-Petersburg  08:37:09     Monday  \n",
       "4            Moscow  08:34:34     Monday  \n",
       "5  Saint-Petersburg  13:09:41     Friday  \n",
       "6            Moscow  13:00:07  Wednesday  \n",
       "7            Moscow  20:47:49  Wednesday  \n",
       "8            Moscow  09:17:40     Friday  \n",
       "9  Saint-Petersburg  21:20:49  Wednesday  "
      ]
     },
     "execution_count": 8,
     "metadata": {},
     "output_type": "execute_result"
    }
   ],
   "source": [
    "# получение первых 10 строк таблицы df\n",
    "df.head(10)"
   ]
  },
  {
   "cell_type": "code",
   "execution_count": 10,
   "metadata": {},
   "outputs": [
    {
     "data": {
      "text/html": [
       "<div>\n",
       "<style scoped>\n",
       "    .dataframe tbody tr th:only-of-type {\n",
       "        vertical-align: middle;\n",
       "    }\n",
       "\n",
       "    .dataframe tbody tr th {\n",
       "        vertical-align: top;\n",
       "    }\n",
       "\n",
       "    .dataframe thead th {\n",
       "        text-align: right;\n",
       "    }\n",
       "</style>\n",
       "<table border=\"1\" class=\"dataframe\">\n",
       "  <thead>\n",
       "    <tr style=\"text-align: right;\">\n",
       "      <th></th>\n",
       "      <th>userID</th>\n",
       "      <th>Track</th>\n",
       "      <th>artist</th>\n",
       "      <th>genre</th>\n",
       "      <th>City</th>\n",
       "      <th>time</th>\n",
       "      <th>Day</th>\n",
       "    </tr>\n",
       "  </thead>\n",
       "  <tbody>\n",
       "    <tr>\n",
       "      <th>65074</th>\n",
       "      <td>729CBB09</td>\n",
       "      <td>My Name</td>\n",
       "      <td>McLean</td>\n",
       "      <td>rnb</td>\n",
       "      <td>Moscow</td>\n",
       "      <td>13:32:28</td>\n",
       "      <td>Wednesday</td>\n",
       "    </tr>\n",
       "    <tr>\n",
       "      <th>65075</th>\n",
       "      <td>D08D4A55</td>\n",
       "      <td>Maybe One Day (feat. Black Spade)</td>\n",
       "      <td>Blu &amp; Exile</td>\n",
       "      <td>hip</td>\n",
       "      <td>Saint-Petersburg</td>\n",
       "      <td>10:00:00</td>\n",
       "      <td>Monday</td>\n",
       "    </tr>\n",
       "    <tr>\n",
       "      <th>65076</th>\n",
       "      <td>C5E3A0D5</td>\n",
       "      <td>Jalopiina</td>\n",
       "      <td>NaN</td>\n",
       "      <td>industrial</td>\n",
       "      <td>Moscow</td>\n",
       "      <td>20:09:26</td>\n",
       "      <td>Friday</td>\n",
       "    </tr>\n",
       "    <tr>\n",
       "      <th>65077</th>\n",
       "      <td>321D0506</td>\n",
       "      <td>Freight Train</td>\n",
       "      <td>Chas McDevitt</td>\n",
       "      <td>rock</td>\n",
       "      <td>Moscow</td>\n",
       "      <td>21:43:59</td>\n",
       "      <td>Friday</td>\n",
       "    </tr>\n",
       "    <tr>\n",
       "      <th>65078</th>\n",
       "      <td>3A64EF84</td>\n",
       "      <td>Tell Me Sweet Little Lies</td>\n",
       "      <td>Monica Lopez</td>\n",
       "      <td>country</td>\n",
       "      <td>Moscow</td>\n",
       "      <td>21:59:46</td>\n",
       "      <td>Friday</td>\n",
       "    </tr>\n",
       "  </tbody>\n",
       "</table>\n",
       "</div>"
      ],
      "text/plain": [
       "         userID                              Track         artist       genre  \\\n",
       "65074  729CBB09                            My Name         McLean         rnb   \n",
       "65075  D08D4A55  Maybe One Day (feat. Black Spade)    Blu & Exile         hip   \n",
       "65076  C5E3A0D5                          Jalopiina            NaN  industrial   \n",
       "65077  321D0506                      Freight Train  Chas McDevitt        rock   \n",
       "65078  3A64EF84          Tell Me Sweet Little Lies   Monica Lopez     country   \n",
       "\n",
       "                 City        time        Day  \n",
       "65074            Moscow  13:32:28  Wednesday  \n",
       "65075  Saint-Petersburg  10:00:00     Monday  \n",
       "65076            Moscow  20:09:26     Friday  \n",
       "65077            Moscow  21:43:59     Friday  \n",
       "65078            Moscow  21:59:46     Friday  "
      ]
     },
     "execution_count": 10,
     "metadata": {},
     "output_type": "execute_result"
    }
   ],
   "source": [
    "# получение последних 10 строк таблицы df\n",
    "\n",
    "df.tail(5)"
   ]
  },
  {
   "cell_type": "code",
   "execution_count": 11,
   "metadata": {
    "id": "DSf2kIb-_Zct"
   },
   "outputs": [
    {
     "name": "stdout",
     "output_type": "stream",
     "text": [
      "<class 'pandas.core.frame.DataFrame'>\n",
      "RangeIndex: 65079 entries, 0 to 65078\n",
      "Data columns (total 7 columns):\n",
      " #   Column    Non-Null Count  Dtype \n",
      "---  ------    --------------  ----- \n",
      " 0     userID  65079 non-null  object\n",
      " 1   Track     63848 non-null  object\n",
      " 2   artist    57876 non-null  object\n",
      " 3   genre     63881 non-null  object\n",
      " 4     City    65079 non-null  object\n",
      " 5   time      65079 non-null  object\n",
      " 6   Day       65079 non-null  object\n",
      "dtypes: object(7)\n",
      "memory usage: 3.5+ MB\n"
     ]
    }
   ],
   "source": [
    "# получение общей информации о данных в таблице df\n",
    "df.info()"
   ]
  },
  {
   "cell_type": "markdown",
   "metadata": {
    "id": "TaQ2Iwbr_Zct"
   },
   "source": [
    "Итак, в таблице семь столбцов. Тип данных во всех столбцах — `object`.\n",
    "\n",
    "Согласно документации к данным:\n",
    "* `userID` — идентификатор пользователя;\n",
    "* `Track` — название трека;  \n",
    "* `artist` — имя исполнителя;\n",
    "* `genre` — название жанра;\n",
    "* `City` — город пользователя;\n",
    "* `time` — время начала прослушивания;\n",
    "* `Day` — день недели.\n",
    "\n",
    "В названиях колонок видны три нарушения стиля:\n",
    "1. Строчные буквы сочетаются с прописными.\n",
    "2. Встречаются пробелы.\n",
    "3. Из названий стобцов 'time' и 'day' непонятно, что они конкретно обозначают.\n",
    "\n",
    "\n",
    "\n",
    "Количество значений в столбцах различается. Значит, в данных есть пропущенные значения.\n"
   ]
  },
  {
   "cell_type": "markdown",
   "metadata": {
    "id": "MCB6-dXG_Zct"
   },
   "source": [
    "**Выводы**\n",
    "\n",
    "В каждой строке таблицы — данные о прослушанном треке. Часть колонок описывает саму композицию: название, исполнителя и жанр. Остальные данные рассказывают о пользователе: из какого он города, когда он слушал музыку. \n",
    "\n",
    "Предварительно можно утверждать, что, данных достаточно для проверки гипотез. Но встречаются пропуски в данных, а в названиях колонок — расхождения с хорошим стилем.\n",
    "\n",
    "Чтобы двигаться дальше, нужно устранить проблемы в данных."
   ]
  },
  {
   "cell_type": "markdown",
   "metadata": {
    "id": "SjYF6Ub9_Zct"
   },
   "source": [
    "## Предобработка данных\n",
    "Исправьте стиль в заголовках столбцов, исключите пропуски. Затем проверьте данные на дубликаты."
   ]
  },
  {
   "cell_type": "markdown",
   "metadata": {
    "id": "dIaKXr29_Zct"
   },
   "source": [
    "### Стиль заголовков"
   ]
  },
  {
   "cell_type": "code",
   "execution_count": 12,
   "metadata": {
    "id": "oKOTdF_Q_Zct"
   },
   "outputs": [
    {
     "data": {
      "text/plain": [
       "Index(['  userID', 'Track', 'artist', 'genre', '  City  ', 'time', 'Day'], dtype='object')"
      ]
     },
     "execution_count": 12,
     "metadata": {},
     "output_type": "execute_result"
    }
   ],
   "source": [
    "# перечень названий столбцов таблицы df\n",
    "df.columns"
   ]
  },
  {
   "cell_type": "code",
   "execution_count": 13,
   "metadata": {
    "id": "ISlFqs5y_Zct"
   },
   "outputs": [],
   "source": [
    "# переименование столбцов\n",
    "df = df.rename(columns={\n",
    "    '  userID': 'user_id',\n",
    "    'Track': 'track',\n",
    "    '  City  ': 'city',\n",
    "    'time': 'listening_start_time',\n",
    "    'Day': 'day_of_week'}) "
   ]
  },
  {
   "cell_type": "code",
   "execution_count": 14,
   "metadata": {
    "id": "d4NOAmTW_Zct"
   },
   "outputs": [
    {
     "data": {
      "text/plain": [
       "Index(['user_id', 'track', 'artist', 'genre', 'city', 'listening_start_time',\n",
       "       'day_of_week'],\n",
       "      dtype='object')"
      ]
     },
     "execution_count": 14,
     "metadata": {},
     "output_type": "execute_result"
    }
   ],
   "source": [
    "# проверка результатов - перечень названий столбцов\n",
    "df.columns"
   ]
  },
  {
   "cell_type": "markdown",
   "metadata": {
    "id": "5ISfbcfY_Zct"
   },
   "source": [
    "### Пропуски значений"
   ]
  },
  {
   "cell_type": "code",
   "execution_count": 15,
   "metadata": {
    "id": "RskX29qr_Zct"
   },
   "outputs": [
    {
     "data": {
      "text/plain": [
       "user_id                    0\n",
       "track                   1231\n",
       "artist                  7203\n",
       "genre                   1198\n",
       "city                       0\n",
       "listening_start_time       0\n",
       "day_of_week                0\n",
       "dtype: int64"
      ]
     },
     "execution_count": 15,
     "metadata": {},
     "output_type": "execute_result"
    }
   ],
   "source": [
    "# подсчёт пропусков\n",
    "df.isna().sum()"
   ]
  },
  {
   "cell_type": "code",
   "execution_count": 16,
   "metadata": {
    "id": "KplB5qWs_Zct"
   },
   "outputs": [],
   "source": [
    "# перебор названий столбцов в цикле и замена пропущенных значений на 'unknown'\n",
    "columns_to_replace = ['track', 'artist', 'genre']\n",
    "for col in columns_to_replace:\n",
    "    df[col] = df[col].fillna('unknown')"
   ]
  },
  {
   "cell_type": "code",
   "execution_count": 17,
   "metadata": {
    "id": "Tq4nYRX4_Zct"
   },
   "outputs": [
    {
     "data": {
      "text/plain": [
       "user_id                 0\n",
       "track                   0\n",
       "artist                  0\n",
       "genre                   0\n",
       "city                    0\n",
       "listening_start_time    0\n",
       "day_of_week             0\n",
       "dtype: int64"
      ]
     },
     "execution_count": 17,
     "metadata": {},
     "output_type": "execute_result"
    }
   ],
   "source": [
    "# подсчёт пропусков\n",
    "df.isna().sum()"
   ]
  },
  {
   "cell_type": "markdown",
   "metadata": {
    "id": "BWKRtBJ3_Zct"
   },
   "source": [
    "### Дубликаты"
   ]
  },
  {
   "cell_type": "code",
   "execution_count": 18,
   "metadata": {
    "id": "36eES_S0_Zct"
   },
   "outputs": [
    {
     "data": {
      "text/plain": [
       "3826"
      ]
     },
     "execution_count": 18,
     "metadata": {},
     "output_type": "execute_result"
    }
   ],
   "source": [
    "# подсчёт явных дубликатов\n",
    "df.duplicated().sum()"
   ]
  },
  {
   "cell_type": "code",
   "execution_count": 19,
   "metadata": {
    "id": "exFHq6tt_Zct"
   },
   "outputs": [],
   "source": [
    "# удаление явных дубликатов (с удалением старых индексов и формированием новых)\n",
    "df = df.drop_duplicates().reset_index(drop=True)"
   ]
  },
  {
   "cell_type": "code",
   "execution_count": 20,
   "metadata": {
    "id": "-8PuNWQ0_Zct"
   },
   "outputs": [
    {
     "data": {
      "text/plain": [
       "0"
      ]
     },
     "execution_count": 20,
     "metadata": {},
     "output_type": "execute_result"
    }
   ],
   "source": [
    "# проверка на отсутствие дубликатов\n",
    "df.duplicated().sum()"
   ]
  },
  {
   "cell_type": "code",
   "execution_count": 21,
   "metadata": {
    "id": "JIUcqzZN_Zct"
   },
   "outputs": [
    {
     "data": {
      "text/plain": [
       "array(['acid', 'acoustic', 'action', 'adult', 'africa', 'afrikaans',\n",
       "       'alternative', 'alternativepunk', 'ambient', 'americana',\n",
       "       'animated', 'anime', 'arabesk', 'arabic', 'arena',\n",
       "       'argentinetango', 'art', 'audiobook', 'author', 'avantgarde',\n",
       "       'axé', 'baile', 'balkan', 'beats', 'bigroom', 'black', 'bluegrass',\n",
       "       'blues', 'bollywood', 'bossa', 'brazilian', 'breakbeat', 'breaks',\n",
       "       'broadway', 'cantautori', 'cantopop', 'canzone', 'caribbean',\n",
       "       'caucasian', 'celtic', 'chamber', 'chanson', 'children', 'chill',\n",
       "       'chinese', 'choral', 'christian', 'christmas', 'classical',\n",
       "       'classicmetal', 'club', 'colombian', 'comedy', 'conjazz',\n",
       "       'contemporary', 'country', 'cuban', 'dance', 'dancehall',\n",
       "       'dancepop', 'dark', 'death', 'deep', 'deutschrock', 'deutschspr',\n",
       "       'dirty', 'disco', 'dnb', 'documentary', 'downbeat', 'downtempo',\n",
       "       'drum', 'dub', 'dubstep', 'eastern', 'easy', 'electronic',\n",
       "       'electropop', 'emo', 'entehno', 'epicmetal', 'estrada', 'ethnic',\n",
       "       'eurofolk', 'european', 'experimental', 'extrememetal', 'fado',\n",
       "       'fairytail', 'film', 'fitness', 'flamenco', 'folk', 'folklore',\n",
       "       'folkmetal', 'folkrock', 'folktronica', 'forró', 'frankreich',\n",
       "       'französisch', 'french', 'funk', 'future', 'gangsta', 'garage',\n",
       "       'german', 'ghazal', 'gitarre', 'glitch', 'gospel', 'gothic',\n",
       "       'grime', 'grunge', 'gypsy', 'handsup', \"hard'n'heavy\", 'hardcore',\n",
       "       'hardstyle', 'hardtechno', 'hip', 'hip-hop', 'hiphop',\n",
       "       'historisch', 'holiday', 'hop', 'horror', 'house', 'hymn', 'idm',\n",
       "       'independent', 'indian', 'indie', 'indipop', 'industrial',\n",
       "       'inspirational', 'instrumental', 'international', 'irish', 'jam',\n",
       "       'japanese', 'jazz', 'jewish', 'jpop', 'jungle', 'k-pop',\n",
       "       'karadeniz', 'karaoke', 'kayokyoku', 'korean', 'laiko', 'latin',\n",
       "       'latino', 'leftfield', 'local', 'lounge', 'loungeelectronic',\n",
       "       'lovers', 'malaysian', 'mandopop', 'marschmusik', 'meditative',\n",
       "       'mediterranean', 'melodic', 'metal', 'metalcore', 'mexican',\n",
       "       'middle', 'minimal', 'miscellaneous', 'modern', 'mood', 'mpb',\n",
       "       'muslim', 'native', 'neoklassik', 'neue', 'new', 'newage',\n",
       "       'newwave', 'nu', 'nujazz', 'numetal', 'oceania', 'old', 'opera',\n",
       "       'orchestral', 'other', 'piano', 'podcasts', 'pop', 'popdance',\n",
       "       'popelectronic', 'popeurodance', 'poprussian', 'post',\n",
       "       'posthardcore', 'postrock', 'power', 'progmetal', 'progressive',\n",
       "       'psychedelic', 'punjabi', 'punk', 'quebecois', 'ragga', 'ram',\n",
       "       'rancheras', 'rap', 'rave', 'reggae', 'reggaeton', 'regional',\n",
       "       'relax', 'religious', 'retro', 'rhythm', 'rnb', 'rnr', 'rock',\n",
       "       'rockabilly', 'rockalternative', 'rockindie', 'rockother',\n",
       "       'romance', 'roots', 'ruspop', 'rusrap', 'rusrock', 'russian',\n",
       "       'salsa', 'samba', 'scenic', 'schlager', 'self', 'sertanejo',\n",
       "       'shanson', 'shoegazing', 'showtunes', 'singer', 'ska', 'skarock',\n",
       "       'slow', 'smooth', 'soft', 'soul', 'soulful', 'sound', 'soundtrack',\n",
       "       'southern', 'specialty', 'speech', 'spiritual', 'sport',\n",
       "       'stonerrock', 'surf', 'swing', 'synthpop', 'synthrock',\n",
       "       'sängerportrait', 'tango', 'tanzorchester', 'taraftar', 'tatar',\n",
       "       'tech', 'techno', 'teen', 'thrash', 'top', 'traditional',\n",
       "       'tradjazz', 'trance', 'tribal', 'trip', 'triphop', 'tropical',\n",
       "       'türk', 'türkçe', 'ukrrock', 'unknown', 'urban', 'uzbek',\n",
       "       'variété', 'vi', 'videogame', 'vocal', 'western', 'world',\n",
       "       'worldbeat', 'ïîï', 'электроника'], dtype=object)"
      ]
     },
     "execution_count": 21,
     "metadata": {},
     "output_type": "execute_result"
    }
   ],
   "source": [
    "# Просмотр уникальных названий жанров\n",
    "df['genre'].sort_values().unique()"
   ]
  },
  {
   "cell_type": "code",
   "execution_count": 22,
   "metadata": {
    "id": "ErNDkmns_Zct"
   },
   "outputs": [],
   "source": [
    "# Функция для замены неявных дубликатов\n",
    "def replace_wrong_genres(wrong_genres, correct_genre):\n",
    "    for genre in wrong_genres:\n",
    "        df['genre'] = df['genre'].replace(genre, correct_genre)"
   ]
  },
  {
   "cell_type": "code",
   "execution_count": 23,
   "metadata": {
    "id": "YN5i2hpmSo09"
   },
   "outputs": [],
   "source": [
    "# Устранение неявных дубликатов\n",
    "replace_wrong_genres(['hip','hip-hop','hop'], 'hiphop')\n",
    "replace_wrong_genres(['электроника'],'electronic')\n",
    "replace_wrong_genres(['ïîï'],'pop')\n",
    "replace_wrong_genres(['latino'],'latin')\n",
    "replace_wrong_genres(['extrememetal'],'experimental')\n",
    "replace_wrong_genres(['chanson'],'shanson')"
   ]
  },
  {
   "cell_type": "code",
   "execution_count": 24,
   "metadata": {
    "id": "wvixALnFG15m"
   },
   "outputs": [
    {
     "data": {
      "text/plain": [
       "array(['acid', 'acoustic', 'action', 'adult', 'africa', 'afrikaans',\n",
       "       'alternative', 'alternativepunk', 'ambient', 'americana',\n",
       "       'animated', 'anime', 'arabesk', 'arabic', 'arena',\n",
       "       'argentinetango', 'art', 'audiobook', 'author', 'avantgarde',\n",
       "       'axé', 'baile', 'balkan', 'beats', 'bigroom', 'black', 'bluegrass',\n",
       "       'blues', 'bollywood', 'bossa', 'brazilian', 'breakbeat', 'breaks',\n",
       "       'broadway', 'cantautori', 'cantopop', 'canzone', 'caribbean',\n",
       "       'caucasian', 'celtic', 'chamber', 'children', 'chill', 'chinese',\n",
       "       'choral', 'christian', 'christmas', 'classical', 'classicmetal',\n",
       "       'club', 'colombian', 'comedy', 'conjazz', 'contemporary',\n",
       "       'country', 'cuban', 'dance', 'dancehall', 'dancepop', 'dark',\n",
       "       'death', 'deep', 'deutschrock', 'deutschspr', 'dirty', 'disco',\n",
       "       'dnb', 'documentary', 'downbeat', 'downtempo', 'drum', 'dub',\n",
       "       'dubstep', 'eastern', 'easy', 'electronic', 'electropop', 'emo',\n",
       "       'entehno', 'epicmetal', 'estrada', 'ethnic', 'eurofolk',\n",
       "       'european', 'experimental', 'fado', 'fairytail', 'film', 'fitness',\n",
       "       'flamenco', 'folk', 'folklore', 'folkmetal', 'folkrock',\n",
       "       'folktronica', 'forró', 'frankreich', 'französisch', 'french',\n",
       "       'funk', 'future', 'gangsta', 'garage', 'german', 'ghazal',\n",
       "       'gitarre', 'glitch', 'gospel', 'gothic', 'grime', 'grunge',\n",
       "       'gypsy', 'handsup', \"hard'n'heavy\", 'hardcore', 'hardstyle',\n",
       "       'hardtechno', 'hiphop', 'historisch', 'holiday', 'horror', 'house',\n",
       "       'hymn', 'idm', 'independent', 'indian', 'indie', 'indipop',\n",
       "       'industrial', 'inspirational', 'instrumental', 'international',\n",
       "       'irish', 'jam', 'japanese', 'jazz', 'jewish', 'jpop', 'jungle',\n",
       "       'k-pop', 'karadeniz', 'karaoke', 'kayokyoku', 'korean', 'laiko',\n",
       "       'latin', 'leftfield', 'local', 'lounge', 'loungeelectronic',\n",
       "       'lovers', 'malaysian', 'mandopop', 'marschmusik', 'meditative',\n",
       "       'mediterranean', 'melodic', 'metal', 'metalcore', 'mexican',\n",
       "       'middle', 'minimal', 'miscellaneous', 'modern', 'mood', 'mpb',\n",
       "       'muslim', 'native', 'neoklassik', 'neue', 'new', 'newage',\n",
       "       'newwave', 'nu', 'nujazz', 'numetal', 'oceania', 'old', 'opera',\n",
       "       'orchestral', 'other', 'piano', 'podcasts', 'pop', 'popdance',\n",
       "       'popelectronic', 'popeurodance', 'poprussian', 'post',\n",
       "       'posthardcore', 'postrock', 'power', 'progmetal', 'progressive',\n",
       "       'psychedelic', 'punjabi', 'punk', 'quebecois', 'ragga', 'ram',\n",
       "       'rancheras', 'rap', 'rave', 'reggae', 'reggaeton', 'regional',\n",
       "       'relax', 'religious', 'retro', 'rhythm', 'rnb', 'rnr', 'rock',\n",
       "       'rockabilly', 'rockalternative', 'rockindie', 'rockother',\n",
       "       'romance', 'roots', 'ruspop', 'rusrap', 'rusrock', 'russian',\n",
       "       'salsa', 'samba', 'scenic', 'schlager', 'self', 'sertanejo',\n",
       "       'shanson', 'shoegazing', 'showtunes', 'singer', 'ska', 'skarock',\n",
       "       'slow', 'smooth', 'soft', 'soul', 'soulful', 'sound', 'soundtrack',\n",
       "       'southern', 'specialty', 'speech', 'spiritual', 'sport',\n",
       "       'stonerrock', 'surf', 'swing', 'synthpop', 'synthrock',\n",
       "       'sängerportrait', 'tango', 'tanzorchester', 'taraftar', 'tatar',\n",
       "       'tech', 'techno', 'teen', 'thrash', 'top', 'traditional',\n",
       "       'tradjazz', 'trance', 'tribal', 'trip', 'triphop', 'tropical',\n",
       "       'türk', 'türkçe', 'ukrrock', 'unknown', 'urban', 'uzbek',\n",
       "       'variété', 'vi', 'videogame', 'vocal', 'western', 'world',\n",
       "       'worldbeat'], dtype=object)"
      ]
     },
     "execution_count": 24,
     "metadata": {},
     "output_type": "execute_result"
    }
   ],
   "source": [
    "# Проверка на неявные дубликаты\n",
    "df['genre'].sort_values().unique()"
   ]
  },
  {
   "cell_type": "markdown",
   "metadata": {
    "id": "jz6a9-7HQUDd"
   },
   "source": [
    "**Выводы**\n",
    "\n",
    "Предобработка обнаружила три проблемы в данных:\n",
    "\n",
    "- нарушения в стиле заголовков,\n",
    "- пропущенные значения,\n",
    "- дубликаты — явные и неявные.\n",
    "\n",
    "Вы исправили заголовки, чтобы упростить работу с таблицей. Без дубликатов исследование станет более точным.\n",
    "\n",
    "Пропущенные значения вы заменили на `'unknown'`. Ещё предстоит увидеть, не повредят ли исследованию пропуски в колонке `genre`.\n",
    "\n",
    "Теперь можно перейти к проверке гипотез. "
   ]
  },
  {
   "cell_type": "markdown",
   "metadata": {
    "id": "WttZHXH0SqKk"
   },
   "source": [
    "## Проверка гипотез"
   ]
  },
  {
   "cell_type": "markdown",
   "metadata": {
    "id": "Im936VVi_Zcu"
   },
   "source": [
    "### Сравнение поведения пользователей двух столиц"
   ]
  },
  {
   "cell_type": "markdown",
   "metadata": {
    "id": "nwt_MuaL_Zcu"
   },
   "source": [
    "Первая гипотеза утверждает, что пользователи по-разному слушают музыку в Москве и Санкт-Петербурге."
   ]
  },
  {
   "cell_type": "code",
   "execution_count": 25,
   "metadata": {
    "id": "0_Qs96oh_Zcu"
   },
   "outputs": [
    {
     "name": "stdout",
     "output_type": "stream",
     "text": [
      "Прослушивания в Санкт-Петербурге: 18512\n",
      "Прослушивания в Москве: 42741\n"
     ]
    }
   ],
   "source": [
    "# Подсчёт прослушиваний в каждом городе\n",
    "spb_general = df[df['city'] == 'Saint-Petersburg'] # слушатели в Санкт-Петербурге\n",
    "moscow_general = df[df['city'] == 'Moscow'] # слушатели в Москве\n",
    "\n",
    "print(f\"Прослушивания в Санкт-Петербурге: {spb_general['user_id'].count()}\")\n",
    "print(f\"Прослушивания в Москве: {moscow_general['user_id'].count()}\")"
   ]
  },
  {
   "cell_type": "markdown",
   "metadata": {
    "id": "dzli3w8o_Zcu"
   },
   "source": [
    "В Москве прослушиваний больше, чем в Петербурге. Из этого не следует, что московские пользователи чаще слушают музыку. Просто самих пользователей в Москве больше."
   ]
  },
  {
   "cell_type": "code",
   "execution_count": 26,
   "metadata": {
    "id": "uZMKjiJz_Zcu"
   },
   "outputs": [
    {
     "name": "stderr",
     "output_type": "stream",
     "text": [
      "/Users/olesya/opt/anaconda3/lib/python3.9/site-packages/seaborn/_decorators.py:36: FutureWarning: Pass the following variables as keyword args: x, y. From version 0.12, the only valid positional argument will be `data`, and passing other arguments without an explicit keyword will result in an error or misinterpretation.\n",
      "  warnings.warn(\n"
     ]
    },
    {
     "data": {
      "text/plain": [
       "<AxesSubplot:>"
      ]
     },
     "execution_count": 26,
     "metadata": {},
     "output_type": "execute_result"
    },
    {
     "data": {
      "image/png": "[encoded data removed]",
      "text/plain": [
       "<Figure size 640x480 with 1 Axes>"
      ]
     },
     "metadata": {},
     "output_type": "display_data"
    }
   ],
   "source": [
    "# Подсчёт прослушиваний в каждый из трёх дней\n",
    "df_grouped_by_day = df.groupby('day_of_week')['user_id'].count()\n",
    "\n",
    "days = ['Monday', 'Wednesday', 'Friday']\n",
    "listinings_by_day = []\n",
    "for day in days:\n",
    "    listinings_by_day.append(df_grouped_by_day[day])\n",
    "    \n",
    "# Визуализируем данные\n",
    "import seaborn as sns\n",
    "sns.barplot(days, listinings_by_day)"
   ]
  },
  {
   "cell_type": "code",
   "execution_count": 27,
   "metadata": {
    "id": "Nz3GdQB1_Zcu"
   },
   "outputs": [],
   "source": [
    "# Функция для определения количества прослушиваний для заданного дня и города\n",
    "\n",
    "def number_tracks(day, city):\n",
    "    track_list = df[df['day_of_week'] == day]\n",
    "    track_list = track_list[track_list['city'] == city]\n",
    "    track_list_count = track_list['user_id'].count()\n",
    "    return track_list_count"
   ]
  },
  {
   "cell_type": "code",
   "execution_count": 28,
   "metadata": {},
   "outputs": [
    {
     "name": "stdout",
     "output_type": "stream",
     "text": [
      "Количество прослушиваний в Москве по понедельникам: 15740\n",
      "Количество прослушиваний в Санкт-Петербурге по понедельникам: 5614\n",
      "\n",
      "Количество прослушиваний в Москве по средам: 11056\n",
      "Количество прослушиваний в Санкт-Петербурге по средам: 7003\n",
      "\n",
      "Количество прослушиваний в Москве по пятницам: 15945\n",
      "Количество прослушиваний в Санкт-Петербурге по пятницам: 5895\n",
      "\n"
     ]
    }
   ],
   "source": [
    "# Найдем количество прослушиваний по городам и дням недели\n",
    "days_of_week = {'Monday': 'понедельникам', 'Wednesday': 'средам', 'Friday': 'пятницам'}\n",
    "cities = {'Moscow': 'Москве', 'Saint-Petersburg': 'Санкт-Петербурге'}\n",
    "\n",
    "listenings_by_day = {'city': ['Moscow', 'Saint-Petersburg']} # этот словарь поможет нам на следующем этапе\n",
    "\n",
    "for day in days_of_week:\n",
    "    listenings_by_day[day] = []\n",
    "    for city in cities:\n",
    "        listened_tracks = number_tracks(day, city)\n",
    "        print(f'Количество прослушиваний в {cities[city]} по {days_of_week[day]}: {listened_tracks}')\n",
    "        listenings_by_day[day].append(listened_tracks)\n",
    "    print()"
   ]
  },
  {
   "cell_type": "code",
   "execution_count": 23,
   "metadata": {
    "id": "APAcLpOr_Zcu"
   },
   "outputs": [
    {
     "data": {
      "text/html": [
       "<div>\n",
       "<style scoped>\n",
       "    .dataframe tbody tr th:only-of-type {\n",
       "        vertical-align: middle;\n",
       "    }\n",
       "\n",
       "    .dataframe tbody tr th {\n",
       "        vertical-align: top;\n",
       "    }\n",
       "\n",
       "    .dataframe thead th {\n",
       "        text-align: right;\n",
       "    }\n",
       "</style>\n",
       "<table border=\"1\" class=\"dataframe\">\n",
       "  <thead>\n",
       "    <tr style=\"text-align: right;\">\n",
       "      <th></th>\n",
       "      <th>city</th>\n",
       "      <th>Monday</th>\n",
       "      <th>Wednesday</th>\n",
       "      <th>Friday</th>\n",
       "    </tr>\n",
       "  </thead>\n",
       "  <tbody>\n",
       "    <tr>\n",
       "      <td>0</td>\n",
       "      <td>Moscow</td>\n",
       "      <td>15740</td>\n",
       "      <td>11056</td>\n",
       "      <td>15945</td>\n",
       "    </tr>\n",
       "    <tr>\n",
       "      <td>1</td>\n",
       "      <td>Saint-Petersburg</td>\n",
       "      <td>5614</td>\n",
       "      <td>7003</td>\n",
       "      <td>5895</td>\n",
       "    </tr>\n",
       "  </tbody>\n",
       "</table>\n",
       "</div>"
      ],
      "text/plain": [
       "               city  Monday  Wednesday  Friday\n",
       "0            Moscow   15740      11056   15945\n",
       "1  Saint-Petersburg    5614       7003    5895"
      ]
     },
     "execution_count": 23,
     "metadata": {},
     "output_type": "execute_result"
    }
   ],
   "source": [
    "# Таблица с результатами\n",
    "city_comparison = pd.DataFrame(listenings_by_day)\n",
    "city_comparison"
   ]
  },
  {
   "cell_type": "markdown",
   "metadata": {
    "id": "-EgPIHYu_Zcu"
   },
   "source": [
    "**Выводы**\n",
    "\n",
    "Данные показывают разницу поведения пользователей:\n",
    "\n",
    "- В Москве пик прослушиваний приходится на понедельник и пятницу, а в среду заметен спад.\n",
    "- В Петербурге, наоборот, больше слушают музыку по средам. Активность в понедельник и пятницу здесь почти в равной мере уступает среде.\n",
    "\n",
    "Значит, данные говорят в пользу первой гипотезы."
   ]
  },
  {
   "cell_type": "markdown",
   "metadata": {
    "id": "atZAxtq4_Zcu"
   },
   "source": [
    "### Музыка в начале и в конце недели"
   ]
  },
  {
   "cell_type": "markdown",
   "metadata": {
    "id": "eXrQqXFH_Zcu"
   },
   "source": [
    "Согласно второй гипотезе, утром в понедельник в Москве преобладают одни жанры, а в Петербурге — другие. Так же и вечером пятницы преобладают разные жанры — в зависимости от города."
   ]
  },
  {
   "cell_type": "code",
   "execution_count": 29,
   "metadata": {
    "id": "qeaFfM_P_Zcu"
   },
   "outputs": [
    {
     "data": {
      "text/html": [
       "<div>\n",
       "<style scoped>\n",
       "    .dataframe tbody tr th:only-of-type {\n",
       "        vertical-align: middle;\n",
       "    }\n",
       "\n",
       "    .dataframe tbody tr th {\n",
       "        vertical-align: top;\n",
       "    }\n",
       "\n",
       "    .dataframe thead th {\n",
       "        text-align: right;\n",
       "    }\n",
       "</style>\n",
       "<table border=\"1\" class=\"dataframe\">\n",
       "  <thead>\n",
       "    <tr style=\"text-align: right;\">\n",
       "      <th></th>\n",
       "      <th>user_id</th>\n",
       "      <th>track</th>\n",
       "      <th>artist</th>\n",
       "      <th>genre</th>\n",
       "      <th>city</th>\n",
       "      <th>listening_start_time</th>\n",
       "      <th>day_of_week</th>\n",
       "    </tr>\n",
       "  </thead>\n",
       "  <tbody>\n",
       "    <tr>\n",
       "      <th>1</th>\n",
       "      <td>55204538</td>\n",
       "      <td>Delayed Because of Accident</td>\n",
       "      <td>Andreas Rönnberg</td>\n",
       "      <td>rock</td>\n",
       "      <td>Moscow</td>\n",
       "      <td>14:07:09</td>\n",
       "      <td>Friday</td>\n",
       "    </tr>\n",
       "    <tr>\n",
       "      <th>4</th>\n",
       "      <td>E2DC1FAE</td>\n",
       "      <td>Soul People</td>\n",
       "      <td>Space Echo</td>\n",
       "      <td>dance</td>\n",
       "      <td>Moscow</td>\n",
       "      <td>08:34:34</td>\n",
       "      <td>Monday</td>\n",
       "    </tr>\n",
       "    <tr>\n",
       "      <th>6</th>\n",
       "      <td>4CB90AA5</td>\n",
       "      <td>True</td>\n",
       "      <td>Roman Messer</td>\n",
       "      <td>dance</td>\n",
       "      <td>Moscow</td>\n",
       "      <td>13:00:07</td>\n",
       "      <td>Wednesday</td>\n",
       "    </tr>\n",
       "    <tr>\n",
       "      <th>7</th>\n",
       "      <td>F03E1C1F</td>\n",
       "      <td>Feeling This Way</td>\n",
       "      <td>Polina Griffith</td>\n",
       "      <td>dance</td>\n",
       "      <td>Moscow</td>\n",
       "      <td>20:47:49</td>\n",
       "      <td>Wednesday</td>\n",
       "    </tr>\n",
       "    <tr>\n",
       "      <th>8</th>\n",
       "      <td>8FA1D3BE</td>\n",
       "      <td>И вновь продолжается бой</td>\n",
       "      <td>unknown</td>\n",
       "      <td>ruspop</td>\n",
       "      <td>Moscow</td>\n",
       "      <td>09:17:40</td>\n",
       "      <td>Friday</td>\n",
       "    </tr>\n",
       "  </tbody>\n",
       "</table>\n",
       "</div>"
      ],
      "text/plain": [
       "    user_id                        track            artist   genre    city  \\\n",
       "1  55204538  Delayed Because of Accident  Andreas Rönnberg    rock  Moscow   \n",
       "4  E2DC1FAE                  Soul People        Space Echo   dance  Moscow   \n",
       "6  4CB90AA5                         True      Roman Messer   dance  Moscow   \n",
       "7  F03E1C1F             Feeling This Way   Polina Griffith   dance  Moscow   \n",
       "8  8FA1D3BE     И вновь продолжается бой           unknown  ruspop  Moscow   \n",
       "\n",
       "  listening_start_time day_of_week  \n",
       "1             14:07:09      Friday  \n",
       "4             08:34:34      Monday  \n",
       "6             13:00:07   Wednesday  \n",
       "7             20:47:49   Wednesday  \n",
       "8             09:17:40      Friday  "
      ]
     },
     "execution_count": 29,
     "metadata": {},
     "output_type": "execute_result"
    }
   ],
   "source": [
    "# получение таблицы moscow_general из тех строк таблицы df, \n",
    "# для которых значение в столбце 'city' равно 'Moscow'\n",
    "moscow_general.head()"
   ]
  },
  {
   "cell_type": "code",
   "execution_count": 30,
   "metadata": {
    "id": "ORaVRKto_Zcu"
   },
   "outputs": [
    {
     "data": {
      "text/html": [
       "<div>\n",
       "<style scoped>\n",
       "    .dataframe tbody tr th:only-of-type {\n",
       "        vertical-align: middle;\n",
       "    }\n",
       "\n",
       "    .dataframe tbody tr th {\n",
       "        vertical-align: top;\n",
       "    }\n",
       "\n",
       "    .dataframe thead th {\n",
       "        text-align: right;\n",
       "    }\n",
       "</style>\n",
       "<table border=\"1\" class=\"dataframe\">\n",
       "  <thead>\n",
       "    <tr style=\"text-align: right;\">\n",
       "      <th></th>\n",
       "      <th>user_id</th>\n",
       "      <th>track</th>\n",
       "      <th>artist</th>\n",
       "      <th>genre</th>\n",
       "      <th>city</th>\n",
       "      <th>listening_start_time</th>\n",
       "      <th>day_of_week</th>\n",
       "    </tr>\n",
       "  </thead>\n",
       "  <tbody>\n",
       "    <tr>\n",
       "      <th>0</th>\n",
       "      <td>FFB692EC</td>\n",
       "      <td>Kamigata To Boots</td>\n",
       "      <td>The Mass Missile</td>\n",
       "      <td>rock</td>\n",
       "      <td>Saint-Petersburg</td>\n",
       "      <td>20:28:33</td>\n",
       "      <td>Wednesday</td>\n",
       "    </tr>\n",
       "    <tr>\n",
       "      <th>2</th>\n",
       "      <td>20EC38</td>\n",
       "      <td>Funiculì funiculà</td>\n",
       "      <td>Mario Lanza</td>\n",
       "      <td>pop</td>\n",
       "      <td>Saint-Petersburg</td>\n",
       "      <td>20:58:07</td>\n",
       "      <td>Wednesday</td>\n",
       "    </tr>\n",
       "    <tr>\n",
       "      <th>3</th>\n",
       "      <td>A3DD03C9</td>\n",
       "      <td>Dragons in the Sunset</td>\n",
       "      <td>Fire + Ice</td>\n",
       "      <td>folk</td>\n",
       "      <td>Saint-Petersburg</td>\n",
       "      <td>08:37:09</td>\n",
       "      <td>Monday</td>\n",
       "    </tr>\n",
       "    <tr>\n",
       "      <th>5</th>\n",
       "      <td>842029A1</td>\n",
       "      <td>Преданная</td>\n",
       "      <td>IMPERVTOR</td>\n",
       "      <td>rusrap</td>\n",
       "      <td>Saint-Petersburg</td>\n",
       "      <td>13:09:41</td>\n",
       "      <td>Friday</td>\n",
       "    </tr>\n",
       "    <tr>\n",
       "      <th>9</th>\n",
       "      <td>E772D5C0</td>\n",
       "      <td>Pessimist</td>\n",
       "      <td>unknown</td>\n",
       "      <td>dance</td>\n",
       "      <td>Saint-Petersburg</td>\n",
       "      <td>21:20:49</td>\n",
       "      <td>Wednesday</td>\n",
       "    </tr>\n",
       "  </tbody>\n",
       "</table>\n",
       "</div>"
      ],
      "text/plain": [
       "    user_id                  track            artist   genre  \\\n",
       "0  FFB692EC      Kamigata To Boots  The Mass Missile    rock   \n",
       "2    20EC38      Funiculì funiculà       Mario Lanza     pop   \n",
       "3  A3DD03C9  Dragons in the Sunset        Fire + Ice    folk   \n",
       "5  842029A1              Преданная         IMPERVTOR  rusrap   \n",
       "9  E772D5C0              Pessimist           unknown   dance   \n",
       "\n",
       "               city listening_start_time day_of_week  \n",
       "0  Saint-Petersburg             20:28:33   Wednesday  \n",
       "2  Saint-Petersburg             20:58:07   Wednesday  \n",
       "3  Saint-Petersburg             08:37:09      Monday  \n",
       "5  Saint-Petersburg             13:09:41      Friday  \n",
       "9  Saint-Petersburg             21:20:49   Wednesday  "
      ]
     },
     "execution_count": 30,
     "metadata": {},
     "output_type": "execute_result"
    }
   ],
   "source": [
    "# получение таблицы spb_general из тех строк таблицы df,\n",
    "# для которых значение в столбце 'city' равно 'Saint-Petersburg'\n",
    "spb_general.head()"
   ]
  },
  {
   "cell_type": "code",
   "execution_count": 31,
   "metadata": {
    "id": "laJT9BYl_Zcu"
   },
   "outputs": [],
   "source": [
    "# Функция для подсчета самых популярных жанров в заданный день и заданное время\n",
    "def genre_weekday(table, day, time1, time2):\n",
    "    genre_df = table[table['day_of_week'] == day]\n",
    "    genre_df = genre_df[genre_df['listening_start_time'] > time1]\n",
    "    genre_df = genre_df[genre_df['listening_start_time'] < time2]\n",
    "    genre_df_count = genre_df.groupby('genre').count()\n",
    "    genre_df_sorted = genre_df_count.sort_values(by='track', ascending=False)\n",
    "    return genre_df_sorted['track'][:10]"
   ]
  },
  {
   "cell_type": "code",
   "execution_count": 32,
   "metadata": {
    "id": "yz7itPUQ_Zcu"
   },
   "outputs": [
    {
     "data": {
      "text/plain": [
       "<AxesSubplot:ylabel='genre'>"
      ]
     },
     "execution_count": 32,
     "metadata": {},
     "output_type": "execute_result"
    },
    {
     "data": {
      "image/png": "[encoded data removed]",
      "text/plain": [
       "<Figure size 640x480 with 1 Axes>"
      ]
     },
     "metadata": {},
     "output_type": "display_data"
    }
   ],
   "source": [
    "# вызов функции для определения самых популярных жанров в Москве в понедельник утром\n",
    "moscow_monday_morning_genres = genre_weekday(moscow_general, 'Monday', '07:00', '11:00')\n",
    "\n",
    "# визуализируем данные\n",
    "sns.barplot(x=moscow_monday_morning_genres.values, y=moscow_monday_morning_genres.index)"
   ]
  },
  {
   "cell_type": "code",
   "execution_count": 33,
   "metadata": {
    "id": "kwUcHPdy_Zcu"
   },
   "outputs": [
    {
     "data": {
      "text/plain": [
       "<AxesSubplot:ylabel='genre'>"
      ]
     },
     "execution_count": 33,
     "metadata": {},
     "output_type": "execute_result"
    },
    {
     "data": {
      "image/png": "[encoded data removed]",
      "text/plain": [
       "<Figure size 640x480 with 1 Axes>"
      ]
     },
     "metadata": {},
     "output_type": "display_data"
    }
   ],
   "source": [
    "# вызов функции для определения самых популярных жанров в Санкт-Петербурге в понедельник утром\n",
    "spb_monday_morning_genres = genre_weekday(spb_general, 'Monday', '07:00', '11:00')\n",
    "\n",
    "# визуализируем данные\n",
    "sns.barplot(x=spb_monday_morning_genres.values, y=spb_monday_morning_genres.index)"
   ]
  },
  {
   "cell_type": "code",
   "execution_count": 34,
   "metadata": {
    "id": "EzXVRE1o_Zcu"
   },
   "outputs": [
    {
     "data": {
      "text/plain": [
       "<AxesSubplot:ylabel='genre'>"
      ]
     },
     "execution_count": 34,
     "metadata": {},
     "output_type": "execute_result"
    },
    {
     "data": {
      "image/png": "[encoded data removed]",
      "text/plain": [
       "<Figure size 640x480 with 1 Axes>"
      ]
     },
     "metadata": {},
     "output_type": "display_data"
    }
   ],
   "source": [
    "# вызов функции для определения самых популярных жанров в Москве в пятницу вечером\n",
    "moscow_friday_evening_genres = genre_weekday(moscow_general, 'Friday', '17:00', '21:00')\n",
    "\n",
    "# визуализируем данные\n",
    "sns.barplot(x=moscow_friday_evening_genres.values, y=moscow_friday_evening_genres.index)"
   ]
  },
  {
   "cell_type": "code",
   "execution_count": 35,
   "metadata": {
    "id": "JZaEKu5v_Zcu"
   },
   "outputs": [
    {
     "data": {
      "text/plain": [
       "<AxesSubplot:ylabel='genre'>"
      ]
     },
     "execution_count": 35,
     "metadata": {},
     "output_type": "execute_result"
    },
    {
     "data": {
      "image/png": "[encoded data removed]",
      "text/plain": [
       "<Figure size 640x480 with 1 Axes>"
      ]
     },
     "metadata": {},
     "output_type": "display_data"
    }
   ],
   "source": [
    "# вызов функции для определения самых популярных жанров в Санкт-Петербурге в пятницу вечером\n",
    "spb_friday_evening_genres = genre_weekday(spb_general, 'Friday', '17:00', '21:00')\n",
    "\n",
    "# визуализируем данные\n",
    "sns.barplot(x=spb_friday_evening_genres.values, y=spb_friday_evening_genres.index)"
   ]
  },
  {
   "cell_type": "markdown",
   "metadata": {
    "id": "wrCe4MNX_Zcu"
   },
   "source": [
    "**Выводы**\n",
    "\n",
    "Если сравнить топ-10 жанров в понедельник утром, можно сделать такие выводы:\n",
    "\n",
    "1. В Москве и Петербурге слушают похожую музыку. Единственное отличие — в московский рейтинг вошёл жанр “world”, а в петербургский — джаз и классика.\n",
    "\n",
    "2. В Москве пропущенных значений оказалось так много, что значение `'unknown'` заняло десятое место среди самых популярных жанров. Значит, пропущенные значения занимают существенную долю в данных и угрожают достоверности исследования.\n",
    "\n",
    "Вечер пятницы не меняет эту картину. Некоторые жанры поднимаются немного выше, другие спускаются, но в целом топ-10 остаётся тем же самым.\n",
    "\n",
    "Таким образом, вторая гипотеза подтвердилась лишь частично:\n",
    "* Пользователи слушают похожую музыку в начале недели и в конце.\n",
    "* Разница между Москвой и Петербургом не слишком выражена. В Москве чаще слушают русскую популярную музыку, в Петербурге — джаз.\n",
    "\n",
    "Однако пропуски в данных ставят под сомнение этот результат. В Москве их так много, что рейтинг топ-10 мог бы выглядеть иначе, если бы не утерянные  данные о жанрах."
   ]
  },
  {
   "cell_type": "markdown",
   "metadata": {
    "id": "JolODAqr_Zcu"
   },
   "source": [
    "### Жанровые предпочтения в Москве и Петербурге\n",
    "\n",
    "Гипотеза: Петербург — столица рэпа, музыку этого жанра там слушают чаще, чем в Москве.  А Москва — город контрастов, в котором, тем не менее, преобладает поп-музыка."
   ]
  },
  {
   "cell_type": "code",
   "execution_count": 36,
   "metadata": {
    "id": "r19lIPke_Zcu"
   },
   "outputs": [],
   "source": [
    "# Созданим Series с самыми популярными жанрами в Москве\n",
    "moscow_genres = moscow_general.groupby('genre')['genre'].count().sort_values(ascending=False)"
   ]
  },
  {
   "cell_type": "code",
   "execution_count": 37,
   "metadata": {
    "id": "WhCSooF8_Zcv"
   },
   "outputs": [
    {
     "data": {
      "text/plain": [
       "genre\n",
       "pop            5893\n",
       "dance          4435\n",
       "rock           3965\n",
       "electronic     3786\n",
       "hiphop         2096\n",
       "classical      1616\n",
       "world          1432\n",
       "alternative    1379\n",
       "ruspop         1372\n",
       "rusrap         1161\n",
       "Name: genre, dtype: int64"
      ]
     },
     "execution_count": 37,
     "metadata": {},
     "output_type": "execute_result"
    }
   ],
   "source": [
    "# просмотр первых 10 строк moscow_genres\n",
    "moscow_genres.head(10)"
   ]
  },
  {
   "cell_type": "code",
   "execution_count": 38,
   "metadata": {
    "id": "gluLIpE7_Zcv"
   },
   "outputs": [],
   "source": [
    "# Созданим Series с самыми популярными жанрами в Санкт-Петербурге\n",
    "spb_genres = spb_general.groupby('genre')['genre'].count().sort_values(ascending=False)"
   ]
  },
  {
   "cell_type": "code",
   "execution_count": 39,
   "metadata": {
    "id": "uaGJHjVU_Zcv"
   },
   "outputs": [
    {
     "data": {
      "text/plain": [
       "genre\n",
       "pop            2431\n",
       "dance          1932\n",
       "rock           1879\n",
       "electronic     1737\n",
       "hiphop          960\n",
       "alternative     649\n",
       "classical       646\n",
       "rusrap          564\n",
       "ruspop          538\n",
       "world           515\n",
       "Name: genre, dtype: int64"
      ]
     },
     "execution_count": 39,
     "metadata": {},
     "output_type": "execute_result"
    }
   ],
   "source": [
    "# просмотр первых 10 строк spb_genres\n",
    "spb_genres.head(10)"
   ]
  },
  {
   "cell_type": "markdown",
   "metadata": {},
   "source": [
    "Позиции рэпа и поп-музыки в топе самых прослушиваемых жанров оказались примерно одинаковыми в двух городах. Но для того чтобы говорить о том, что тот или иной жанр популярнее в определенном городе, сравним их относительные значения. Для этого вычислим доли прослушивания относительно каждого из городов по жанрам типа поп (pop, ruspop) и рэп (rap, hiphop, rusrap)."
   ]
  },
  {
   "cell_type": "markdown",
   "metadata": {},
   "source": [
    "Создадим функцию get_genres_percantage, которая будет принимать данные по определенному городу и возвращать Series с долями прослушивания жанров относительно города:"
   ]
  },
  {
   "cell_type": "code",
   "execution_count": 40,
   "metadata": {},
   "outputs": [],
   "source": [
    "# Создадим функцию, которая возвращает относительные значения популярности жанров\n",
    "def get_genres_percantage(data):\n",
    "    genres_count = data.groupby(by='genre')['user_id'].count().sort_values(ascending=False)\n",
    "    genres_percantage = genres_count / data['genre'].count()\n",
    "    return genres_percantage"
   ]
  },
  {
   "cell_type": "markdown",
   "metadata": {},
   "source": [
    "Выделим Series по каждому городу с исследуемыми нами жанрами. Индексами будут названия жанров, а значениями доли жанров:"
   ]
  },
  {
   "cell_type": "code",
   "execution_count": 41,
   "metadata": {},
   "outputs": [],
   "source": [
    "# Найдем относительные значения прослушиваний по Санкт-Петербургу\n",
    "spb_genres_percentage = get_genres_percantage(spb_general)[['rap', 'pop', 'rusrap', 'ruspop', 'hiphop']]"
   ]
  },
  {
   "cell_type": "code",
   "execution_count": 42,
   "metadata": {},
   "outputs": [],
   "source": [
    "# Найдем относительные значения прослушиваний по Москве\n",
    "msk_genres_percentage = get_genres_percantage(moscow_general)[['rap', 'pop', 'rusrap', 'ruspop', 'hiphop']]"
   ]
  },
  {
   "cell_type": "markdown",
   "metadata": {},
   "source": [
    "Объединим полученные Series в общую таблицу и добавим столбец 'difference' в котором сохраним разницу долей в процентах:"
   ]
  },
  {
   "cell_type": "code",
   "execution_count": 43,
   "metadata": {},
   "outputs": [],
   "source": [
    "# Создадим таблицу сравнения относительных прослушиваний среди жанров поп и рэп\n",
    "msk_spb = pd.merge(msk_genres_percentage, spb_genres_percentage, on='genre')\n",
    "msk_spb.columns = ['moskow', 'saint_petersburg']\n",
    "msk_spb['difference'] = abs((1 - (msk_spb['moskow'] / msk_spb['saint_petersburg'])))"
   ]
  },
  {
   "cell_type": "code",
   "execution_count": 44,
   "metadata": {},
   "outputs": [
    {
     "data": {
      "text/html": [
       "<style type=\"text/css\">\n",
       "</style>\n",
       "<table id=\"T_9fc1f\">\n",
       "  <thead>\n",
       "    <tr>\n",
       "      <th class=\"blank level0\" >&nbsp;</th>\n",
       "      <th id=\"T_9fc1f_level0_col0\" class=\"col_heading level0 col0\" >moskow</th>\n",
       "      <th id=\"T_9fc1f_level0_col1\" class=\"col_heading level0 col1\" >saint_petersburg</th>\n",
       "      <th id=\"T_9fc1f_level0_col2\" class=\"col_heading level0 col2\" >difference</th>\n",
       "    </tr>\n",
       "    <tr>\n",
       "      <th class=\"index_name level0\" >genre</th>\n",
       "      <th class=\"blank col0\" >&nbsp;</th>\n",
       "      <th class=\"blank col1\" >&nbsp;</th>\n",
       "      <th class=\"blank col2\" >&nbsp;</th>\n",
       "    </tr>\n",
       "  </thead>\n",
       "  <tbody>\n",
       "    <tr>\n",
       "      <th id=\"T_9fc1f_level0_row0\" class=\"row_heading level0 row0\" >rap</th>\n",
       "      <td id=\"T_9fc1f_row0_col0\" class=\"data row0 col0\" >1.27%</td>\n",
       "      <td id=\"T_9fc1f_row0_col1\" class=\"data row0 col1\" >1.67%</td>\n",
       "      <td id=\"T_9fc1f_row0_col2\" class=\"data row0 col2\" >23.89%</td>\n",
       "    </tr>\n",
       "    <tr>\n",
       "      <th id=\"T_9fc1f_level0_row1\" class=\"row_heading level0 row1\" >rusrap</th>\n",
       "      <td id=\"T_9fc1f_row1_col0\" class=\"data row1 col0\" >2.72%</td>\n",
       "      <td id=\"T_9fc1f_row1_col1\" class=\"data row1 col1\" >3.05%</td>\n",
       "      <td id=\"T_9fc1f_row1_col2\" class=\"data row1 col2\" >10.84%</td>\n",
       "    </tr>\n",
       "    <tr>\n",
       "      <th id=\"T_9fc1f_level0_row2\" class=\"row_heading level0 row2\" >ruspop</th>\n",
       "      <td id=\"T_9fc1f_row2_col0\" class=\"data row2 col0\" >3.21%</td>\n",
       "      <td id=\"T_9fc1f_row2_col1\" class=\"data row2 col1\" >2.91%</td>\n",
       "      <td id=\"T_9fc1f_row2_col2\" class=\"data row2 col2\" >10.45%</td>\n",
       "    </tr>\n",
       "    <tr>\n",
       "      <th id=\"T_9fc1f_level0_row3\" class=\"row_heading level0 row3\" >hiphop</th>\n",
       "      <td id=\"T_9fc1f_row3_col0\" class=\"data row3 col0\" >4.90%</td>\n",
       "      <td id=\"T_9fc1f_row3_col1\" class=\"data row3 col1\" >5.19%</td>\n",
       "      <td id=\"T_9fc1f_row3_col2\" class=\"data row3 col2\" >5.44%</td>\n",
       "    </tr>\n",
       "    <tr>\n",
       "      <th id=\"T_9fc1f_level0_row4\" class=\"row_heading level0 row4\" >pop</th>\n",
       "      <td id=\"T_9fc1f_row4_col0\" class=\"data row4 col0\" >13.79%</td>\n",
       "      <td id=\"T_9fc1f_row4_col1\" class=\"data row4 col1\" >13.13%</td>\n",
       "      <td id=\"T_9fc1f_row4_col2\" class=\"data row4 col2\" >4.99%</td>\n",
       "    </tr>\n",
       "  </tbody>\n",
       "</table>\n"
      ],
      "text/plain": [
       "<pandas.io.formats.style.Styler at 0x7fdb3a3c0070>"
      ]
     },
     "execution_count": 44,
     "metadata": {},
     "output_type": "execute_result"
    }
   ],
   "source": [
    "# Выведем таблицу сравнения с форматированием, сортированную по разнице в относительных значениях\n",
    "msk_spb.sort_values(by='difference', ascending=False).style.format('{:.2%}')"
   ]
  },
  {
   "cell_type": "markdown",
   "metadata": {},
   "source": [
    "Наиболее ярковыраженные отличия в долях заметны в жанре rap, в Петербурге его доля почти на 24% выше чем в Москве. Более того, остальные жанры типа рэп (hiphop, rusrap), также занимают бОльшую долю в Петербурге. А вот доля жанров типа поп (pop, ruspop) выше в Москве."
   ]
  },
  {
   "cell_type": "markdown",
   "metadata": {
    "id": "RY51YJYu_Zcv"
   },
   "source": [
    "**Выводы**"
   ]
  },
  {
   "cell_type": "markdown",
   "metadata": {
    "id": "nVhnJEm__Zcv"
   },
   "source": [
    "Гипотеза подтвердилась:\n",
    "* Поп-музыка — самый популярный жанр в Москве, как и предполагала гипотеза. Более того, в топ-10 жанров встречается близкий жанр — русская популярная музыка.\n",
    "* Хоть в рейтинге самых популярных жанров рэп-музыка в Москве и Санкт-Петербурге находятся примерно на одинаковых позициях, но если посмотреть по долям популярности, то в Петербурге доля прослушиваний рэпа и близких к нему жанров выше, чем в Москве."
   ]
  },
  {
   "cell_type": "markdown",
   "metadata": {
    "id": "ykKQ0N65_Zcv"
   },
   "source": [
    "## Итоги исследования"
   ]
  },
  {
   "cell_type": "markdown",
   "metadata": {
    "id": "tjUwbHb3_Zcv"
   },
   "source": [
    "Вы проверили три гипотезы и установили:\n",
    "\n",
    "1. День недели по-разному влияет на активность пользователей в Москве и Петербурге. \n",
    "\n",
    "Первая гипотеза полностью подтвердилась.\n",
    "\n",
    "2. Музыкальные предпочтения не сильно меняются в течение недели — будь то Москва или Петербург. Небольшие различия заметны в начале недели, по понедельникам:\n",
    "* в Москве слушают музыку жанра “world”,\n",
    "* в Петербурге — джаз и классику.\n",
    "\n",
    "Таким образом, вторая гипотеза подтвердилась лишь отчасти. Этот результат мог оказаться иным, если бы не пропуски в данных.\n",
    "\n",
    "3. Жанр поп-музыки самый популярный в обоих городах. Относительно жанра рэп-музыки, то согласно долям популярности этого и близкого к нему жанров в Петербурге, действительно, его предпочитают больше чем в Москве.\n",
    "\n",
    "Третья гипотеза подтвердилась.\n",
    "\n",
    "**На практике исследования содержат проверки статистических гипотез.**\n",
    "Из данных одного сервиса не всегда можно сделать вывод о всех жителях города.\n",
    "Проверки статистических гипотез покажут, насколько они достоверны, исходя из имеющихся данных. \n",
    "С методами проверок гипотез вы ещё познакомитесь в следующих темах."
   ]
  }
 ],
 "metadata": {
  "ExecuteTimeLog": [
   {
    "duration": 394,
    "start_time": "2022-02-17T10:47:49.873Z"
   },
   {
    "duration": 334,
    "start_time": "2022-02-17T10:47:53.941Z"
   },
   {
    "duration": 728,
    "start_time": "2022-02-17T10:47:56.636Z"
   },
   {
    "duration": 2220,
    "start_time": "2022-02-17T10:47:58.978Z"
   },
   {
    "duration": 187,
    "start_time": "2022-02-17T10:48:10.822Z"
   },
   {
    "duration": 24,
    "start_time": "2022-02-17T10:48:12.826Z"
   },
   {
    "duration": 16,
    "start_time": "2022-02-17T10:48:16.955Z"
   },
   {
    "duration": 5,
    "start_time": "2022-02-17T10:49:28.545Z"
   },
   {
    "duration": 72,
    "start_time": "2022-02-17T10:50:05.836Z"
   },
   {
    "duration": 5,
    "start_time": "2022-02-17T10:50:18.792Z"
   },
   {
    "duration": 72,
    "start_time": "2022-02-17T10:50:21.362Z"
   },
   {
    "duration": 5,
    "start_time": "2022-02-17T10:50:23.625Z"
   },
   {
    "duration": 99,
    "start_time": "2022-02-17T10:50:43.287Z"
   },
   {
    "duration": 65,
    "start_time": "2022-02-17T10:50:48.646Z"
   },
   {
    "duration": 18,
    "start_time": "2022-02-17T10:51:03.373Z"
   },
   {
    "duration": 4,
    "start_time": "2022-02-17T10:51:04.910Z"
   },
   {
    "duration": 17,
    "start_time": "2022-02-17T10:51:47.977Z"
   },
   {
    "duration": 5,
    "start_time": "2022-02-17T10:51:50.424Z"
   },
   {
    "duration": 16,
    "start_time": "2022-02-17T10:52:04.351Z"
   },
   {
    "duration": 5,
    "start_time": "2022-02-17T10:52:05.556Z"
   },
   {
    "duration": 30,
    "start_time": "2022-02-17T10:52:50.480Z"
   },
   {
    "duration": 28,
    "start_time": "2022-02-17T10:52:55.654Z"
   },
   {
    "duration": 22,
    "start_time": "2022-02-17T10:54:23.589Z"
   },
   {
    "duration": 27,
    "start_time": "2022-02-17T10:54:35.797Z"
   },
   {
    "duration": 82,
    "start_time": "2022-02-17T10:54:59.151Z"
   },
   {
    "duration": 93,
    "start_time": "2022-02-17T10:55:20.203Z"
   },
   {
    "duration": 73,
    "start_time": "2022-02-17T10:55:36.270Z"
   },
   {
    "duration": 421,
    "start_time": "2022-02-17T10:56:13.718Z"
   },
   {
    "duration": 9,
    "start_time": "2022-02-17T10:56:22.383Z"
   },
   {
    "duration": 11,
    "start_time": "2022-02-17T10:56:50.243Z"
   },
   {
    "duration": 325,
    "start_time": "2022-02-17T10:59:49.026Z"
   },
   {
    "duration": 364,
    "start_time": "2022-02-17T11:00:53.720Z"
   },
   {
    "duration": 4,
    "start_time": "2022-02-17T11:04:05.110Z"
   },
   {
    "duration": 15,
    "start_time": "2022-02-17T11:05:07.556Z"
   },
   {
    "duration": 329,
    "start_time": "2022-02-17T11:05:39.868Z"
   },
   {
    "duration": 333,
    "start_time": "2022-02-17T11:05:47.941Z"
   },
   {
    "duration": 804,
    "start_time": "2022-02-17T11:05:56.809Z"
   },
   {
    "duration": 3,
    "start_time": "2022-02-17T11:06:32.618Z"
   },
   {
    "duration": 204,
    "start_time": "2022-02-17T11:06:32.626Z"
   },
   {
    "duration": 15,
    "start_time": "2022-02-17T11:06:32.833Z"
   },
   {
    "duration": 4,
    "start_time": "2022-02-17T11:06:32.852Z"
   },
   {
    "duration": 6,
    "start_time": "2022-02-17T11:06:32.859Z"
   },
   {
    "duration": 63,
    "start_time": "2022-02-17T11:06:32.867Z"
   },
   {
    "duration": 10,
    "start_time": "2022-02-17T11:06:32.933Z"
   },
   {
    "duration": 33,
    "start_time": "2022-02-17T11:06:32.946Z"
   },
   {
    "duration": 24,
    "start_time": "2022-02-17T11:06:33.011Z"
   },
   {
    "duration": 30,
    "start_time": "2022-02-17T11:06:33.039Z"
   },
   {
    "duration": 122,
    "start_time": "2022-02-17T11:06:33.072Z"
   },
   {
    "duration": 99,
    "start_time": "2022-02-17T11:06:33.197Z"
   },
   {
    "duration": 86,
    "start_time": "2022-02-17T11:06:33.298Z"
   },
   {
    "duration": 25,
    "start_time": "2022-02-17T11:06:33.387Z"
   },
   {
    "duration": 4,
    "start_time": "2022-02-17T11:06:33.415Z"
   },
   {
    "duration": 22,
    "start_time": "2022-02-17T11:06:33.422Z"
   },
   {
    "duration": 16,
    "start_time": "2022-02-17T11:06:33.447Z"
   },
   {
    "duration": 20,
    "start_time": "2022-02-17T11:06:33.466Z"
   },
   {
    "duration": 22,
    "start_time": "2022-02-17T11:06:33.488Z"
   },
   {
    "duration": 17,
    "start_time": "2022-02-17T11:06:33.513Z"
   },
   {
    "duration": 26,
    "start_time": "2022-02-17T11:06:33.533Z"
   },
   {
    "duration": 21,
    "start_time": "2022-02-17T11:06:33.561Z"
   },
   {
    "duration": 11,
    "start_time": "2022-02-17T11:06:33.584Z"
   },
   {
    "duration": 13,
    "start_time": "2022-02-17T11:06:33.599Z"
   },
   {
    "duration": 12,
    "start_time": "2022-02-17T11:06:33.614Z"
   },
   {
    "duration": 17,
    "start_time": "2022-02-17T11:06:33.628Z"
   },
   {
    "duration": 6,
    "start_time": "2022-02-17T11:06:33.647Z"
   },
   {
    "duration": 11,
    "start_time": "2022-02-17T11:06:33.655Z"
   },
   {
    "duration": 9,
    "start_time": "2022-02-17T11:06:33.668Z"
   },
   {
    "duration": 17,
    "start_time": "2022-02-17T11:06:33.680Z"
   },
   {
    "duration": 17,
    "start_time": "2022-02-17T11:06:33.700Z"
   },
   {
    "duration": 12,
    "start_time": "2022-02-17T11:06:33.720Z"
   },
   {
    "duration": 13,
    "start_time": "2022-02-17T11:06:33.734Z"
   },
   {
    "duration": 10,
    "start_time": "2022-02-17T11:06:33.750Z"
   },
   {
    "duration": 5,
    "start_time": "2022-02-17T11:06:33.762Z"
   },
   {
    "duration": 17,
    "start_time": "2022-02-17T11:06:33.770Z"
   },
   {
    "duration": 10,
    "start_time": "2022-02-17T11:06:33.789Z"
   },
   {
    "duration": 8,
    "start_time": "2022-02-17T11:06:33.801Z"
   },
   {
    "duration": 9,
    "start_time": "2022-02-17T11:06:57.694Z"
   },
   {
    "duration": 817,
    "start_time": "2022-02-18T10:16:03.793Z"
   },
   {
    "duration": 204,
    "start_time": "2022-02-18T10:16:07.528Z"
   },
   {
    "duration": 30,
    "start_time": "2022-02-18T10:16:13.513Z"
   },
   {
    "duration": 38,
    "start_time": "2022-02-18T10:17:44.543Z"
   },
   {
    "duration": 5,
    "start_time": "2022-02-18T10:18:05.794Z"
   },
   {
    "duration": 34,
    "start_time": "2022-02-18T10:18:10.413Z"
   },
   {
    "duration": 4,
    "start_time": "2022-02-18T10:18:14.624Z"
   },
   {
    "duration": 5,
    "start_time": "2022-02-18T10:18:22.883Z"
   },
   {
    "duration": 30,
    "start_time": "2022-02-18T10:18:30.984Z"
   },
   {
    "duration": 5,
    "start_time": "2022-02-18T10:18:43.208Z"
   },
   {
    "duration": 27,
    "start_time": "2022-02-18T10:18:45.553Z"
   },
   {
    "duration": 4,
    "start_time": "2022-02-18T10:18:49.124Z"
   },
   {
    "duration": 33,
    "start_time": "2022-02-18T10:18:51.563Z"
   },
   {
    "duration": 25,
    "start_time": "2022-02-18T10:19:41.203Z"
   },
   {
    "duration": 30,
    "start_time": "2022-02-18T10:19:43.323Z"
   },
   {
    "duration": 89,
    "start_time": "2022-02-18T10:19:46.943Z"
   },
   {
    "duration": 106,
    "start_time": "2022-02-18T10:20:06.374Z"
   },
   {
    "duration": 80,
    "start_time": "2022-02-18T10:20:08.533Z"
   },
   {
    "duration": 9,
    "start_time": "2022-02-18T10:20:24.073Z"
   },
   {
    "duration": 19,
    "start_time": "2022-02-18T10:21:13.764Z"
   },
   {
    "duration": 4,
    "start_time": "2022-02-18T10:21:33.708Z"
   },
   {
    "duration": 15,
    "start_time": "2022-02-18T10:21:35.393Z"
   },
   {
    "duration": 18,
    "start_time": "2022-02-18T10:21:37.023Z"
   },
   {
    "duration": 4,
    "start_time": "2022-02-18T10:23:04.319Z"
   },
   {
    "duration": 1044,
    "start_time": "2022-02-18T10:23:04.344Z"
   },
   {
    "duration": 18,
    "start_time": "2022-02-18T10:23:05.391Z"
   },
   {
    "duration": 48,
    "start_time": "2022-02-18T10:23:05.412Z"
   },
   {
    "duration": 13,
    "start_time": "2022-02-18T10:23:05.462Z"
   },
   {
    "duration": 35,
    "start_time": "2022-02-18T10:23:05.478Z"
   },
   {
    "duration": 13,
    "start_time": "2022-02-18T10:23:05.515Z"
   },
   {
    "duration": 37,
    "start_time": "2022-02-18T10:23:05.530Z"
   },
   {
    "duration": 29,
    "start_time": "2022-02-18T10:23:05.570Z"
   },
   {
    "duration": 53,
    "start_time": "2022-02-18T10:23:05.604Z"
   },
   {
    "duration": 111,
    "start_time": "2022-02-18T10:23:05.661Z"
   },
   {
    "duration": 119,
    "start_time": "2022-02-18T10:23:05.775Z"
   },
   {
    "duration": 100,
    "start_time": "2022-02-18T10:23:05.896Z"
   },
   {
    "duration": 12,
    "start_time": "2022-02-18T10:23:05.999Z"
   },
   {
    "duration": 15,
    "start_time": "2022-02-18T10:23:06.027Z"
   },
   {
    "duration": 26,
    "start_time": "2022-02-18T10:23:06.045Z"
   },
   {
    "duration": 381,
    "start_time": "2022-02-18T10:23:06.074Z"
   },
   {
    "duration": -89,
    "start_time": "2022-02-18T10:23:06.547Z"
   },
   {
    "duration": -93,
    "start_time": "2022-02-18T10:23:06.552Z"
   },
   {
    "duration": -95,
    "start_time": "2022-02-18T10:23:06.556Z"
   },
   {
    "duration": -129,
    "start_time": "2022-02-18T10:23:06.591Z"
   },
   {
    "duration": -141,
    "start_time": "2022-02-18T10:23:06.604Z"
   },
   {
    "duration": -142,
    "start_time": "2022-02-18T10:23:06.607Z"
   },
   {
    "duration": -144,
    "start_time": "2022-02-18T10:23:06.610Z"
   },
   {
    "duration": -152,
    "start_time": "2022-02-18T10:23:06.620Z"
   },
   {
    "duration": -155,
    "start_time": "2022-02-18T10:23:06.624Z"
   },
   {
    "duration": -157,
    "start_time": "2022-02-18T10:23:06.627Z"
   },
   {
    "duration": -159,
    "start_time": "2022-02-18T10:23:06.630Z"
   },
   {
    "duration": -160,
    "start_time": "2022-02-18T10:23:06.633Z"
   },
   {
    "duration": -164,
    "start_time": "2022-02-18T10:23:06.638Z"
   },
   {
    "duration": -165,
    "start_time": "2022-02-18T10:23:06.641Z"
   },
   {
    "duration": -168,
    "start_time": "2022-02-18T10:23:06.645Z"
   },
   {
    "duration": -172,
    "start_time": "2022-02-18T10:23:06.650Z"
   },
   {
    "duration": -175,
    "start_time": "2022-02-18T10:23:06.654Z"
   },
   {
    "duration": -179,
    "start_time": "2022-02-18T10:23:06.660Z"
   },
   {
    "duration": -181,
    "start_time": "2022-02-18T10:23:06.663Z"
   },
   {
    "duration": -182,
    "start_time": "2022-02-18T10:23:06.666Z"
   },
   {
    "duration": -186,
    "start_time": "2022-02-18T10:23:06.671Z"
   },
   {
    "duration": -187,
    "start_time": "2022-02-18T10:23:06.674Z"
   },
   {
    "duration": 3,
    "start_time": "2022-02-18T10:23:33.584Z"
   },
   {
    "duration": 192,
    "start_time": "2022-02-18T10:23:33.592Z"
   },
   {
    "duration": 16,
    "start_time": "2022-02-18T10:23:33.786Z"
   },
   {
    "duration": 52,
    "start_time": "2022-02-18T10:23:33.805Z"
   },
   {
    "duration": 4,
    "start_time": "2022-02-18T10:23:33.861Z"
   },
   {
    "duration": 60,
    "start_time": "2022-02-18T10:23:33.867Z"
   },
   {
    "duration": 4,
    "start_time": "2022-02-18T10:23:33.930Z"
   },
   {
    "duration": 36,
    "start_time": "2022-02-18T10:23:33.937Z"
   },
   {
    "duration": 54,
    "start_time": "2022-02-18T10:23:33.977Z"
   },
   {
    "duration": 29,
    "start_time": "2022-02-18T10:23:34.034Z"
   },
   {
    "duration": 121,
    "start_time": "2022-02-18T10:23:34.066Z"
   },
   {
    "duration": 102,
    "start_time": "2022-02-18T10:23:34.189Z"
   },
   {
    "duration": 86,
    "start_time": "2022-02-18T10:23:34.293Z"
   },
   {
    "duration": 10,
    "start_time": "2022-02-18T10:23:34.382Z"
   },
   {
    "duration": 20,
    "start_time": "2022-02-18T10:23:51.183Z"
   },
   {
    "duration": 8,
    "start_time": "2022-02-18T10:24:05.924Z"
   },
   {
    "duration": 21,
    "start_time": "2022-02-18T10:24:08.593Z"
   },
   {
    "duration": 367,
    "start_time": "2022-02-18T10:24:53.214Z"
   },
   {
    "duration": 4,
    "start_time": "2022-02-18T10:25:34.373Z"
   },
   {
    "duration": 312,
    "start_time": "2022-02-18T10:25:36.364Z"
   },
   {
    "duration": 26,
    "start_time": "2022-02-18T10:25:43.924Z"
   },
   {
    "duration": 304,
    "start_time": "2022-02-18T10:25:46.223Z"
   },
   {
    "duration": 313,
    "start_time": "2022-02-18T10:25:54.294Z"
   },
   {
    "duration": 49,
    "start_time": "2022-02-18T10:26:34.199Z"
   },
   {
    "duration": 15,
    "start_time": "2022-02-18T10:26:36.088Z"
   },
   {
    "duration": 28,
    "start_time": "2022-02-18T10:26:57.274Z"
   },
   {
    "duration": 18,
    "start_time": "2022-02-18T10:27:01.282Z"
   },
   {
    "duration": 21,
    "start_time": "2022-02-18T10:27:04.989Z"
   },
   {
    "duration": 16,
    "start_time": "2022-02-18T10:27:17.389Z"
   },
   {
    "duration": 22,
    "start_time": "2022-02-18T10:27:19.428Z"
   },
   {
    "duration": 28,
    "start_time": "2022-02-18T10:28:15.789Z"
   },
   {
    "duration": 13,
    "start_time": "2022-02-18T10:28:16.819Z"
   },
   {
    "duration": 25,
    "start_time": "2022-02-18T10:28:31.804Z"
   },
   {
    "duration": 27,
    "start_time": "2022-02-18T10:28:49.508Z"
   },
   {
    "duration": 308,
    "start_time": "2022-02-18T10:29:00.520Z"
   },
   {
    "duration": 4,
    "start_time": "2022-02-18T10:30:28.369Z"
   },
   {
    "duration": 381,
    "start_time": "2022-02-18T10:30:30.879Z"
   },
   {
    "duration": 149,
    "start_time": "2022-02-18T10:30:36.518Z"
   },
   {
    "duration": 333,
    "start_time": "2022-02-18T10:30:38.729Z"
   },
   {
    "duration": 101,
    "start_time": "2022-02-18T10:30:49.058Z"
   },
   {
    "duration": 7,
    "start_time": "2022-02-18T10:31:06.959Z"
   },
   {
    "duration": 666,
    "start_time": "2022-02-18T10:31:09.029Z"
   },
   {
    "duration": 4,
    "start_time": "2022-02-18T10:31:14.279Z"
   },
   {
    "duration": 76,
    "start_time": "2022-02-18T10:31:16.169Z"
   },
   {
    "duration": 344,
    "start_time": "2022-02-18T10:31:18.138Z"
   },
   {
    "duration": 4,
    "start_time": "2022-02-18T10:31:31.799Z"
   },
   {
    "duration": 16,
    "start_time": "2022-02-18T10:31:33.479Z"
   },
   {
    "duration": 320,
    "start_time": "2022-02-18T10:31:35.903Z"
   },
   {
    "duration": 363,
    "start_time": "2022-02-18T10:31:46.148Z"
   },
   {
    "duration": 20,
    "start_time": "2022-02-18T10:31:53.919Z"
   },
   {
    "duration": 389,
    "start_time": "2022-02-18T10:31:54.968Z"
   },
   {
    "duration": 28,
    "start_time": "2022-02-18T10:32:04.888Z"
   },
   {
    "duration": 28,
    "start_time": "2022-02-18T10:32:11.728Z"
   },
   {
    "duration": 34,
    "start_time": "2022-02-18T10:32:17.988Z"
   },
   {
    "duration": 31,
    "start_time": "2022-02-18T10:32:31.299Z"
   },
   {
    "duration": 31,
    "start_time": "2022-02-18T10:32:46.868Z"
   },
   {
    "duration": 7,
    "start_time": "2022-02-18T10:33:21.139Z"
   },
   {
    "duration": 9,
    "start_time": "2022-02-18T10:33:24.218Z"
   },
   {
    "duration": 94,
    "start_time": "2022-02-18T10:33:34.384Z"
   },
   {
    "duration": 9,
    "start_time": "2022-02-18T10:33:36.828Z"
   },
   {
    "duration": 31,
    "start_time": "2022-02-18T10:35:09.308Z"
   },
   {
    "duration": 74,
    "start_time": "2022-02-18T10:35:21.059Z"
   },
   {
    "duration": 48,
    "start_time": "2022-02-18T10:36:10.979Z"
   },
   {
    "duration": 4758,
    "start_time": "2022-02-18T10:36:15.503Z"
   },
   {
    "duration": 4730,
    "start_time": "2022-02-18T10:36:24.459Z"
   },
   {
    "duration": 3,
    "start_time": "2022-02-18T10:36:32.568Z"
   },
   {
    "duration": 27,
    "start_time": "2022-02-18T10:36:36.958Z"
   },
   {
    "duration": 24,
    "start_time": "2022-02-18T10:36:54.739Z"
   },
   {
    "duration": 26,
    "start_time": "2022-02-18T10:37:03.289Z"
   },
   {
    "duration": 34,
    "start_time": "2022-02-18T10:37:24.759Z"
   },
   {
    "duration": 31,
    "start_time": "2022-02-18T10:37:30.288Z"
   },
   {
    "duration": 31,
    "start_time": "2022-02-18T10:37:40.229Z"
   },
   {
    "duration": 27,
    "start_time": "2022-02-18T10:38:10.549Z"
   },
   {
    "duration": 27,
    "start_time": "2022-02-18T10:38:18.668Z"
   },
   {
    "duration": 27,
    "start_time": "2022-02-18T10:38:25.058Z"
   },
   {
    "duration": 41,
    "start_time": "2022-02-18T10:38:28.918Z"
   },
   {
    "duration": 28,
    "start_time": "2022-02-18T10:38:42.018Z"
   },
   {
    "duration": 40,
    "start_time": "2022-02-18T10:38:46.819Z"
   },
   {
    "duration": 41,
    "start_time": "2022-02-18T10:38:50.068Z"
   },
   {
    "duration": 32,
    "start_time": "2022-02-18T10:39:03.998Z"
   },
   {
    "duration": 76,
    "start_time": "2022-02-18T10:39:34.339Z"
   },
   {
    "duration": 64,
    "start_time": "2022-02-18T10:39:39.908Z"
   },
   {
    "duration": 4,
    "start_time": "2022-02-18T10:39:59.638Z"
   },
   {
    "duration": 58,
    "start_time": "2022-02-18T10:40:03.618Z"
   },
   {
    "duration": 55,
    "start_time": "2022-02-18T10:40:29.528Z"
   },
   {
    "duration": 5,
    "start_time": "2022-02-18T10:40:58.279Z"
   },
   {
    "duration": 15,
    "start_time": "2022-02-18T10:40:59.858Z"
   },
   {
    "duration": 9,
    "start_time": "2022-02-18T10:41:31.429Z"
   },
   {
    "duration": 8,
    "start_time": "2022-02-18T10:41:39.718Z"
   },
   {
    "duration": 8,
    "start_time": "2022-02-18T10:41:55.221Z"
   },
   {
    "duration": 44,
    "start_time": "2022-02-18T10:43:18.288Z"
   },
   {
    "duration": 51,
    "start_time": "2022-02-18T10:43:21.589Z"
   },
   {
    "duration": 334,
    "start_time": "2022-02-18T10:43:28.960Z"
   },
   {
    "duration": 63,
    "start_time": "2022-02-18T10:43:32.998Z"
   },
   {
    "duration": 8,
    "start_time": "2022-02-18T10:44:13.828Z"
   },
   {
    "duration": 23,
    "start_time": "2022-02-18T11:08:22.361Z"
   },
   {
    "duration": 23,
    "start_time": "2022-02-18T11:08:26.747Z"
   },
   {
    "duration": 28,
    "start_time": "2022-02-18T11:08:30.016Z"
   },
   {
    "duration": 22,
    "start_time": "2022-02-18T11:08:34.547Z"
   },
   {
    "duration": 23,
    "start_time": "2022-02-18T11:08:38.345Z"
   },
   {
    "duration": 22,
    "start_time": "2022-02-18T11:08:44.456Z"
   },
   {
    "duration": 134,
    "start_time": "2022-02-18T11:11:15.492Z"
   },
   {
    "duration": 9,
    "start_time": "2022-02-18T11:11:24.661Z"
   },
   {
    "duration": 132,
    "start_time": "2022-02-18T11:11:30.912Z"
   },
   {
    "duration": 9,
    "start_time": "2022-02-18T11:11:33.081Z"
   },
   {
    "duration": 39,
    "start_time": "2022-02-18T11:12:07.371Z"
   },
   {
    "duration": 8,
    "start_time": "2022-02-18T11:12:09.721Z"
   },
   {
    "duration": 10,
    "start_time": "2022-02-18T11:16:44.991Z"
   },
   {
    "duration": 27,
    "start_time": "2022-02-18T11:17:17.840Z"
   },
   {
    "duration": 6,
    "start_time": "2022-02-18T11:17:56.060Z"
   },
   {
    "duration": 420,
    "start_time": "2022-02-18T11:18:33.195Z"
   },
   {
    "duration": 41,
    "start_time": "2022-02-18T11:18:36.899Z"
   },
   {
    "duration": 121,
    "start_time": "2022-02-18T11:18:44.820Z"
   },
   {
    "duration": 30,
    "start_time": "2022-02-18T11:18:48.154Z"
   },
   {
    "duration": 37,
    "start_time": "2022-02-18T11:19:10.583Z"
   },
   {
    "duration": 115,
    "start_time": "2022-02-18T11:19:49.599Z"
   },
   {
    "duration": 32,
    "start_time": "2022-02-18T11:20:35.207Z"
   },
   {
    "duration": 35,
    "start_time": "2022-02-18T11:20:58.822Z"
   },
   {
    "duration": 7,
    "start_time": "2022-02-18T11:21:56.703Z"
   },
   {
    "duration": 18,
    "start_time": "2022-02-18T11:24:25.933Z"
   },
   {
    "duration": 1039,
    "start_time": "2022-02-18T11:24:53.875Z"
   },
   {
    "duration": 20,
    "start_time": "2022-02-18T11:25:12.799Z"
   },
   {
    "duration": 16,
    "start_time": "2022-02-18T11:25:17.972Z"
   },
   {
    "duration": 16,
    "start_time": "2022-02-18T11:25:23.260Z"
   },
   {
    "duration": -395,
    "start_time": "2022-02-18T11:25:45.705Z"
   },
   {
    "duration": 4,
    "start_time": "2022-02-18T11:26:05.531Z"
   },
   {
    "duration": 232,
    "start_time": "2022-02-18T11:26:05.541Z"
   },
   {
    "duration": 16,
    "start_time": "2022-02-18T11:26:05.775Z"
   },
   {
    "duration": 58,
    "start_time": "2022-02-18T11:26:05.794Z"
   },
   {
    "duration": 9,
    "start_time": "2022-02-18T11:26:05.854Z"
   },
   {
    "duration": 45,
    "start_time": "2022-02-18T11:26:05.866Z"
   },
   {
    "duration": 12,
    "start_time": "2022-02-18T11:26:05.913Z"
   },
   {
    "duration": 38,
    "start_time": "2022-02-18T11:26:05.928Z"
   },
   {
    "duration": 32,
    "start_time": "2022-02-18T11:26:05.968Z"
   },
   {
    "duration": 45,
    "start_time": "2022-02-18T11:26:06.003Z"
   },
   {
    "duration": 101,
    "start_time": "2022-02-18T11:26:06.051Z"
   },
   {
    "duration": 103,
    "start_time": "2022-02-18T11:26:06.155Z"
   },
   {
    "duration": 83,
    "start_time": "2022-02-18T11:26:06.261Z"
   },
   {
    "duration": 8,
    "start_time": "2022-02-18T11:26:06.346Z"
   },
   {
    "duration": 22,
    "start_time": "2022-02-18T11:26:06.356Z"
   },
   {
    "duration": 56,
    "start_time": "2022-02-18T11:26:06.381Z"
   },
   {
    "duration": 7,
    "start_time": "2022-02-18T11:26:06.439Z"
   },
   {
    "duration": 44,
    "start_time": "2022-02-18T11:26:06.449Z"
   },
   {
    "duration": 18,
    "start_time": "2022-02-18T11:26:09.239Z"
   },
   {
    "duration": 27,
    "start_time": "2022-02-18T11:28:02.561Z"
   },
   {
    "duration": 16,
    "start_time": "2022-02-18T11:28:15.019Z"
   },
   {
    "duration": 18,
    "start_time": "2022-02-18T11:28:20.299Z"
   },
   {
    "duration": 18,
    "start_time": "2022-02-18T11:28:25.548Z"
   },
   {
    "duration": 363,
    "start_time": "2022-02-18T11:29:02.791Z"
   },
   {
    "duration": 355,
    "start_time": "2022-02-18T11:29:15.979Z"
   },
   {
    "duration": 344,
    "start_time": "2022-02-18T11:29:29.959Z"
   },
   {
    "duration": 214,
    "start_time": "2022-02-18T11:29:40.240Z"
   },
   {
    "duration": 231,
    "start_time": "2022-02-18T11:29:56.939Z"
   },
   {
    "duration": 629,
    "start_time": "2022-02-18T11:34:18.639Z"
   },
   {
    "duration": 396,
    "start_time": "2022-02-18T11:34:37.121Z"
   },
   {
    "duration": 95,
    "start_time": "2022-02-18T11:34:42.259Z"
   },
   {
    "duration": 63,
    "start_time": "2022-02-18T11:36:42.183Z"
   },
   {
    "duration": 60,
    "start_time": "2022-02-18T11:36:48.281Z"
   },
   {
    "duration": 63,
    "start_time": "2022-02-18T11:37:01.887Z"
   },
   {
    "duration": 337,
    "start_time": "2022-02-18T11:37:26.899Z"
   },
   {
    "duration": 264,
    "start_time": "2022-02-18T11:40:50.804Z"
   },
   {
    "duration": 225,
    "start_time": "2022-02-18T11:41:23.564Z"
   },
   {
    "duration": 364,
    "start_time": "2022-02-18T11:41:49.402Z"
   },
   {
    "duration": 220,
    "start_time": "2022-02-18T11:42:14.587Z"
   },
   {
    "duration": 230,
    "start_time": "2022-02-18T11:42:35.922Z"
   },
   {
    "duration": 221,
    "start_time": "2022-02-18T11:42:40.952Z"
   },
   {
    "duration": 5,
    "start_time": "2022-02-18T11:45:56.522Z"
   },
   {
    "duration": 12,
    "start_time": "2022-02-18T11:46:30.377Z"
   },
   {
    "duration": 22,
    "start_time": "2022-02-18T11:46:38.842Z"
   },
   {
    "duration": 21,
    "start_time": "2022-02-18T11:47:00.197Z"
   },
   {
    "duration": 105,
    "start_time": "2022-02-18T11:47:22.326Z"
   },
   {
    "duration": 22,
    "start_time": "2022-02-18T11:47:26.946Z"
   },
   {
    "duration": 23,
    "start_time": "2022-02-18T11:47:30.967Z"
   },
   {
    "duration": 22,
    "start_time": "2022-02-18T11:48:04.547Z"
   },
   {
    "duration": 29,
    "start_time": "2022-02-18T11:48:06.882Z"
   },
   {
    "duration": 20,
    "start_time": "2022-02-18T11:48:51.236Z"
   },
   {
    "duration": 20,
    "start_time": "2022-02-18T11:49:07.036Z"
   },
   {
    "duration": 20,
    "start_time": "2022-02-18T11:49:23.787Z"
   },
   {
    "duration": 21,
    "start_time": "2022-02-18T11:50:26.296Z"
   },
   {
    "duration": 21,
    "start_time": "2022-02-18T11:50:58.496Z"
   },
   {
    "duration": 24,
    "start_time": "2022-02-18T11:51:18.007Z"
   },
   {
    "duration": 22,
    "start_time": "2022-02-18T11:51:48.356Z"
   },
   {
    "duration": 19,
    "start_time": "2022-02-18T11:52:16.367Z"
   },
   {
    "duration": 22,
    "start_time": "2022-02-18T11:52:44.756Z"
   },
   {
    "duration": 4,
    "start_time": "2022-02-18T11:55:02.372Z"
   },
   {
    "duration": 10,
    "start_time": "2022-02-18T11:55:08.601Z"
   },
   {
    "duration": 9,
    "start_time": "2022-02-18T11:55:21.212Z"
   },
   {
    "duration": 362,
    "start_time": "2022-02-18T11:55:55.716Z"
   },
   {
    "duration": 299,
    "start_time": "2022-02-18T11:56:13.716Z"
   },
   {
    "duration": 335,
    "start_time": "2022-02-18T11:56:43.501Z"
   },
   {
    "duration": 23,
    "start_time": "2022-02-18T11:56:51.016Z"
   },
   {
    "duration": 20,
    "start_time": "2022-02-18T11:56:51.596Z"
   },
   {
    "duration": 30,
    "start_time": "2022-02-18T11:56:52.227Z"
   },
   {
    "duration": 29,
    "start_time": "2022-02-18T11:56:52.886Z"
   },
   {
    "duration": 32,
    "start_time": "2022-02-18T11:56:53.576Z"
   },
   {
    "duration": 29,
    "start_time": "2022-02-18T11:56:55.433Z"
   },
   {
    "duration": 10,
    "start_time": "2022-02-18T11:56:57.547Z"
   },
   {
    "duration": 15,
    "start_time": "2022-02-18T11:58:03.297Z"
   },
   {
    "duration": 18,
    "start_time": "2022-02-18T11:58:55.472Z"
   },
   {
    "duration": 18,
    "start_time": "2022-02-18T11:59:05.302Z"
   },
   {
    "duration": 343,
    "start_time": "2022-02-18T11:59:56.131Z"
   },
   {
    "duration": 619,
    "start_time": "2022-02-18T12:00:04.761Z"
   },
   {
    "duration": 108,
    "start_time": "2022-02-18T12:02:00.726Z"
   },
   {
    "duration": 12,
    "start_time": "2022-02-18T12:02:16.971Z"
   },
   {
    "duration": 12,
    "start_time": "2022-02-18T12:02:20.826Z"
   },
   {
    "duration": 14,
    "start_time": "2022-02-18T12:06:10.360Z"
   },
   {
    "duration": 14,
    "start_time": "2022-02-18T12:06:15.171Z"
   },
   {
    "duration": 14,
    "start_time": "2022-02-18T12:06:18.261Z"
   },
   {
    "duration": 13,
    "start_time": "2022-02-18T12:06:20.671Z"
   },
   {
    "duration": 336,
    "start_time": "2022-02-18T12:07:33.551Z"
   },
   {
    "duration": 370,
    "start_time": "2022-02-18T12:07:39.911Z"
   },
   {
    "duration": 893,
    "start_time": "2022-02-18T12:08:43.386Z"
   },
   {
    "duration": 938,
    "start_time": "2022-02-18T12:08:49.631Z"
   },
   {
    "duration": 104,
    "start_time": "2022-02-18T12:08:59.752Z"
   },
   {
    "duration": 318,
    "start_time": "2022-02-18T12:09:02.421Z"
   },
   {
    "duration": 316,
    "start_time": "2022-02-18T12:09:06.932Z"
   },
   {
    "duration": 13,
    "start_time": "2022-02-18T12:09:12.692Z"
   },
   {
    "duration": 13,
    "start_time": "2022-02-18T12:09:15.581Z"
   },
   {
    "duration": 296,
    "start_time": "2022-02-19T08:01:00.417Z"
   },
   {
    "duration": 585,
    "start_time": "2022-02-19T08:01:06.027Z"
   },
   {
    "duration": 123,
    "start_time": "2022-02-19T08:01:06.614Z"
   },
   {
    "duration": 17,
    "start_time": "2022-02-19T08:01:06.739Z"
   },
   {
    "duration": 25,
    "start_time": "2022-02-19T08:01:06.758Z"
   },
   {
    "duration": 3,
    "start_time": "2022-02-19T08:01:06.785Z"
   },
   {
    "duration": 48,
    "start_time": "2022-02-19T08:01:06.789Z"
   },
   {
    "duration": 3,
    "start_time": "2022-02-19T08:01:06.838Z"
   },
   {
    "duration": 20,
    "start_time": "2022-02-19T08:01:06.844Z"
   },
   {
    "duration": 15,
    "start_time": "2022-02-19T08:01:06.866Z"
   },
   {
    "duration": 18,
    "start_time": "2022-02-19T08:01:06.882Z"
   },
   {
    "duration": 77,
    "start_time": "2022-02-19T08:01:06.901Z"
   },
   {
    "duration": 68,
    "start_time": "2022-02-19T08:01:06.980Z"
   },
   {
    "duration": 44,
    "start_time": "2022-02-19T08:01:07.050Z"
   },
   {
    "duration": 5,
    "start_time": "2022-02-19T08:01:07.095Z"
   },
   {
    "duration": 2,
    "start_time": "2022-02-19T08:01:07.102Z"
   },
   {
    "duration": 38,
    "start_time": "2022-02-19T08:01:07.106Z"
   },
   {
    "duration": 5,
    "start_time": "2022-02-19T08:01:07.146Z"
   },
   {
    "duration": 19,
    "start_time": "2022-02-19T08:01:07.152Z"
   },
   {
    "duration": 649,
    "start_time": "2022-02-19T08:01:07.172Z"
   },
   {
    "duration": 9,
    "start_time": "2022-02-19T08:01:07.822Z"
   },
   {
    "duration": 15,
    "start_time": "2022-02-19T08:01:07.833Z"
   },
   {
    "duration": 299,
    "start_time": "2022-02-19T08:01:07.849Z"
   },
   {
    "duration": 169,
    "start_time": "2022-02-19T08:01:07.981Z"
   },
   {
    "duration": 165,
    "start_time": "2022-02-19T08:01:07.986Z"
   },
   {
    "duration": 161,
    "start_time": "2022-02-19T08:01:07.990Z"
   },
   {
    "duration": 156,
    "start_time": "2022-02-19T08:01:07.996Z"
   },
   {
    "duration": 152,
    "start_time": "2022-02-19T08:01:08.001Z"
   },
   {
    "duration": 149,
    "start_time": "2022-02-19T08:01:08.005Z"
   },
   {
    "duration": 10,
    "start_time": "2022-02-19T08:01:10.767Z"
   },
   {
    "duration": 21,
    "start_time": "2022-02-19T08:01:17.732Z"
   },
   {
    "duration": 10,
    "start_time": "2022-02-19T08:01:25.007Z"
   },
   {
    "duration": 23,
    "start_time": "2022-02-19T08:01:59.622Z"
   },
   {
    "duration": 8,
    "start_time": "2022-02-19T08:03:49.598Z"
   },
   {
    "duration": 10,
    "start_time": "2022-02-19T08:03:57.977Z"
   },
   {
    "duration": 9,
    "start_time": "2022-02-19T08:04:06.317Z"
   },
   {
    "duration": 9,
    "start_time": "2022-02-19T08:04:13.857Z"
   },
   {
    "duration": 3,
    "start_time": "2022-02-19T08:10:39.198Z"
   },
   {
    "duration": 525,
    "start_time": "2022-02-19T08:10:55.757Z"
   },
   {
    "duration": 4,
    "start_time": "2022-02-19T08:11:15.002Z"
   },
   {
    "duration": 543,
    "start_time": "2022-02-19T08:11:18.333Z"
   },
   {
    "duration": 4,
    "start_time": "2022-02-19T08:11:26.221Z"
   },
   {
    "duration": 6853,
    "start_time": "2022-02-19T08:11:27.836Z"
   },
   {
    "duration": 4,
    "start_time": "2022-02-19T08:12:27.979Z"
   },
   {
    "duration": 26,
    "start_time": "2022-02-19T08:12:29.637Z"
   },
   {
    "duration": 4,
    "start_time": "2022-02-19T08:13:01.559Z"
   },
   {
    "duration": 26,
    "start_time": "2022-02-19T08:13:04.215Z"
   },
   {
    "duration": 4,
    "start_time": "2022-02-19T08:13:18.160Z"
   },
   {
    "duration": 26,
    "start_time": "2022-02-19T08:13:19.519Z"
   },
   {
    "duration": 3,
    "start_time": "2022-02-19T08:13:38.385Z"
   },
   {
    "duration": 6727,
    "start_time": "2022-02-19T08:13:40.348Z"
   },
   {
    "duration": 4,
    "start_time": "2022-02-19T08:13:58.983Z"
   },
   {
    "duration": 28,
    "start_time": "2022-02-19T08:14:00.437Z"
   },
   {
    "duration": 4,
    "start_time": "2022-02-19T08:15:05.225Z"
   },
   {
    "duration": 22,
    "start_time": "2022-02-19T08:15:06.209Z"
   },
   {
    "duration": 3,
    "start_time": "2022-02-19T08:15:50.166Z"
   },
   {
    "duration": 25,
    "start_time": "2022-02-19T08:15:51.650Z"
   },
   {
    "duration": 4,
    "start_time": "2022-02-19T08:16:04.488Z"
   },
   {
    "duration": 6911,
    "start_time": "2022-02-19T08:16:06.509Z"
   },
   {
    "duration": 4,
    "start_time": "2022-02-19T08:16:29.315Z"
   },
   {
    "duration": 20,
    "start_time": "2022-02-19T08:16:31.977Z"
   },
   {
    "duration": 4,
    "start_time": "2022-02-19T08:17:14.046Z"
   },
   {
    "duration": 27,
    "start_time": "2022-02-19T08:17:18.729Z"
   },
   {
    "duration": 3,
    "start_time": "2022-02-19T08:17:29.308Z"
   },
   {
    "duration": 27,
    "start_time": "2022-02-19T08:17:30.425Z"
   },
   {
    "duration": 3,
    "start_time": "2022-02-19T08:17:36.006Z"
   },
   {
    "duration": 26,
    "start_time": "2022-02-19T08:17:37.580Z"
   },
   {
    "duration": 4,
    "start_time": "2022-02-19T08:17:48.916Z"
   },
   {
    "duration": 24,
    "start_time": "2022-02-19T08:17:50.277Z"
   },
   {
    "duration": 4,
    "start_time": "2022-02-19T08:18:16.358Z"
   },
   {
    "duration": 20,
    "start_time": "2022-02-19T08:18:16.839Z"
   },
   {
    "duration": 4,
    "start_time": "2022-02-19T08:18:23.417Z"
   },
   {
    "duration": 20,
    "start_time": "2022-02-19T08:18:24.908Z"
   },
   {
    "duration": 13,
    "start_time": "2022-02-19T08:18:49.797Z"
   },
   {
    "duration": 14,
    "start_time": "2022-02-19T08:19:09.048Z"
   },
   {
    "duration": 20,
    "start_time": "2022-02-19T08:19:15.977Z"
   },
   {
    "duration": 16,
    "start_time": "2022-02-19T08:19:55.089Z"
   },
   {
    "duration": 13,
    "start_time": "2022-02-19T08:20:06.837Z"
   },
   {
    "duration": 18,
    "start_time": "2022-02-19T08:22:58.842Z"
   },
   {
    "duration": 20,
    "start_time": "2022-02-19T08:23:02.827Z"
   },
   {
    "duration": 265,
    "start_time": "2022-02-19T08:23:08.811Z"
   },
   {
    "duration": 20,
    "start_time": "2022-02-19T08:23:12.757Z"
   },
   {
    "duration": 20,
    "start_time": "2022-02-19T08:23:20.559Z"
   },
   {
    "duration": 18,
    "start_time": "2022-02-19T08:23:25.442Z"
   },
   {
    "duration": 20,
    "start_time": "2022-02-19T08:23:31.596Z"
   },
   {
    "duration": 267,
    "start_time": "2022-02-19T08:24:09.182Z"
   },
   {
    "duration": 19,
    "start_time": "2022-02-19T08:24:27.442Z"
   },
   {
    "duration": 29,
    "start_time": "2022-02-19T08:24:37.083Z"
   },
   {
    "duration": 275,
    "start_time": "2022-02-19T08:25:09.402Z"
   },
   {
    "duration": 258,
    "start_time": "2022-02-19T08:25:32.582Z"
   },
   {
    "duration": 364,
    "start_time": "2022-02-19T08:25:41.672Z"
   },
   {
    "duration": 273,
    "start_time": "2022-02-19T08:25:48.525Z"
   },
   {
    "duration": 20,
    "start_time": "2022-02-19T08:25:51.072Z"
   },
   {
    "duration": 283,
    "start_time": "2022-02-19T08:26:20.282Z"
   },
   {
    "duration": 184,
    "start_time": "2022-02-19T08:26:24.822Z"
   },
   {
    "duration": 185,
    "start_time": "2022-02-19T08:26:43.562Z"
   },
   {
    "duration": 78,
    "start_time": "2022-02-19T08:28:18.292Z"
   },
   {
    "duration": 188,
    "start_time": "2022-02-19T08:28:22.032Z"
   },
   {
    "duration": 174,
    "start_time": "2022-02-19T08:28:47.539Z"
   },
   {
    "duration": 185,
    "start_time": "2022-02-19T08:31:37.662Z"
   },
   {
    "duration": 244,
    "start_time": "2022-02-19T08:31:43.421Z"
   },
   {
    "duration": 183,
    "start_time": "2022-02-19T08:31:53.362Z"
   },
   {
    "duration": 189,
    "start_time": "2022-02-19T08:31:59.357Z"
   },
   {
    "duration": 193,
    "start_time": "2022-02-19T08:32:11.103Z"
   },
   {
    "duration": 208,
    "start_time": "2022-02-19T08:32:17.302Z"
   },
   {
    "duration": 166,
    "start_time": "2022-02-19T08:33:23.842Z"
   },
   {
    "duration": 173,
    "start_time": "2022-02-19T08:34:47.054Z"
   },
   {
    "duration": 175,
    "start_time": "2022-02-19T08:35:22.052Z"
   },
   {
    "duration": 258,
    "start_time": "2022-02-19T08:35:33.003Z"
   },
   {
    "duration": 179,
    "start_time": "2022-02-19T08:35:35.797Z"
   },
   {
    "duration": 171,
    "start_time": "2022-02-19T08:36:07.203Z"
   },
   {
    "duration": 562,
    "start_time": "2022-02-19T08:39:15.157Z"
   },
   {
    "duration": 179,
    "start_time": "2022-02-19T08:39:42.282Z"
   },
   {
    "duration": 10,
    "start_time": "2022-02-19T08:41:34.223Z"
   },
   {
    "duration": 10,
    "start_time": "2022-02-19T08:41:46.852Z"
   },
   {
    "duration": 9,
    "start_time": "2022-02-19T08:41:56.062Z"
   },
   {
    "duration": 5,
    "start_time": "2022-02-19T08:42:10.292Z"
   },
   {
    "duration": 5,
    "start_time": "2022-02-19T08:42:13.392Z"
   },
   {
    "duration": 8,
    "start_time": "2022-02-19T08:42:54.902Z"
   },
   {
    "duration": 6,
    "start_time": "2022-02-19T08:43:03.532Z"
   },
   {
    "duration": 4,
    "start_time": "2022-02-19T08:43:30.222Z"
   },
   {
    "duration": 5,
    "start_time": "2022-02-19T08:43:32.822Z"
   },
   {
    "duration": 14,
    "start_time": "2022-02-19T08:48:08.752Z"
   },
   {
    "duration": 15,
    "start_time": "2022-02-19T08:48:15.062Z"
   },
   {
    "duration": 266,
    "start_time": "2022-02-19T08:48:16.772Z"
   },
   {
    "duration": 14,
    "start_time": "2022-02-19T08:48:23.693Z"
   },
   {
    "duration": 16,
    "start_time": "2022-02-19T08:48:28.732Z"
   },
   {
    "duration": 408,
    "start_time": "2022-02-19T08:48:30.775Z"
   },
   {
    "duration": 15,
    "start_time": "2022-02-19T08:48:35.722Z"
   },
   {
    "duration": 8,
    "start_time": "2022-02-19T08:48:49.492Z"
   },
   {
    "duration": 9,
    "start_time": "2022-02-19T08:48:57.622Z"
   },
   {
    "duration": 4,
    "start_time": "2022-02-19T08:49:55.802Z"
   },
   {
    "duration": 192,
    "start_time": "2022-02-19T08:51:03.607Z"
   },
   {
    "duration": 177,
    "start_time": "2022-02-19T08:51:06.332Z"
   },
   {
    "duration": 180,
    "start_time": "2022-02-19T08:51:49.972Z"
   },
   {
    "duration": 168,
    "start_time": "2022-02-19T08:51:53.462Z"
   },
   {
    "duration": 8,
    "start_time": "2022-02-19T08:52:57.522Z"
   },
   {
    "duration": 8,
    "start_time": "2022-02-19T08:53:02.063Z"
   },
   {
    "duration": 10,
    "start_time": "2022-02-19T09:03:16.446Z"
   },
   {
    "duration": 17,
    "start_time": "2022-02-19T09:04:30.246Z"
   },
   {
    "duration": 12,
    "start_time": "2022-02-19T09:04:36.126Z"
   },
   {
    "duration": 5,
    "start_time": "2022-02-19T09:04:45.546Z"
   },
   {
    "duration": 4,
    "start_time": "2022-02-19T09:05:13.726Z"
   },
   {
    "duration": 4,
    "start_time": "2022-02-19T09:05:18.606Z"
   },
   {
    "duration": 8,
    "start_time": "2022-02-19T09:05:33.100Z"
   },
   {
    "duration": 19,
    "start_time": "2022-02-19T09:06:13.012Z"
   },
   {
    "duration": 8,
    "start_time": "2022-02-19T09:06:35.274Z"
   },
   {
    "duration": 8,
    "start_time": "2022-02-19T09:06:47.534Z"
   },
   {
    "duration": 9,
    "start_time": "2022-02-19T09:06:52.217Z"
   },
   {
    "duration": 6,
    "start_time": "2022-02-19T09:07:24.066Z"
   },
   {
    "duration": 97,
    "start_time": "2022-02-19T09:07:42.718Z"
   },
   {
    "duration": 9,
    "start_time": "2022-02-19T09:07:48.274Z"
   },
   {
    "duration": 6,
    "start_time": "2022-02-19T09:08:11.966Z"
   },
   {
    "duration": 10,
    "start_time": "2022-02-19T09:08:30.086Z"
   },
   {
    "duration": 10,
    "start_time": "2022-02-19T09:08:40.566Z"
   },
   {
    "duration": 13,
    "start_time": "2022-02-19T09:09:31.843Z"
   },
   {
    "duration": 5,
    "start_time": "2022-02-19T09:10:07.178Z"
   },
   {
    "duration": 4,
    "start_time": "2022-02-19T09:11:04.927Z"
   },
   {
    "duration": 6,
    "start_time": "2022-02-19T09:11:11.922Z"
   },
   {
    "duration": 6,
    "start_time": "2022-02-19T09:11:47.995Z"
   },
   {
    "duration": 5,
    "start_time": "2022-02-19T09:12:36.107Z"
   },
   {
    "duration": 4,
    "start_time": "2022-02-19T09:12:59.966Z"
   },
   {
    "duration": 9,
    "start_time": "2022-02-19T09:13:27.740Z"
   },
   {
    "duration": 11,
    "start_time": "2022-02-19T09:13:45.906Z"
   },
   {
    "duration": 13,
    "start_time": "2022-02-19T09:13:54.972Z"
   },
   {
    "duration": 12,
    "start_time": "2022-02-19T09:13:57.606Z"
   },
   {
    "duration": 8,
    "start_time": "2022-02-19T09:14:12.746Z"
   },
   {
    "duration": 12,
    "start_time": "2022-02-19T09:14:17.918Z"
   },
   {
    "duration": 2,
    "start_time": "2022-02-19T09:14:40.608Z"
   },
   {
    "duration": 3,
    "start_time": "2022-02-19T09:14:52.206Z"
   },
   {
    "duration": 172,
    "start_time": "2022-02-19T09:15:30.072Z"
   },
   {
    "duration": 183,
    "start_time": "2022-02-19T09:15:48.386Z"
   },
   {
    "duration": 30,
    "start_time": "2022-02-19T09:16:43.508Z"
   },
   {
    "duration": 31,
    "start_time": "2022-02-19T09:16:48.506Z"
   },
   {
    "duration": 3,
    "start_time": "2022-02-19T09:22:02.326Z"
   },
   {
    "duration": 6,
    "start_time": "2022-02-19T09:22:09.226Z"
   },
   {
    "duration": 5,
    "start_time": "2022-02-19T09:22:16.882Z"
   },
   {
    "duration": 10,
    "start_time": "2022-02-19T09:24:01.966Z"
   },
   {
    "duration": 274,
    "start_time": "2022-02-19T09:24:18.787Z"
   },
   {
    "duration": 12,
    "start_time": "2022-02-19T09:24:21.626Z"
   },
   {
    "duration": 316,
    "start_time": "2022-02-19T09:24:39.866Z"
   },
   {
    "duration": 99,
    "start_time": "2022-02-19T09:24:44.498Z"
   },
   {
    "duration": 348,
    "start_time": "2022-02-19T09:24:50.626Z"
   },
   {
    "duration": 11,
    "start_time": "2022-02-19T09:24:54.966Z"
   },
   {
    "duration": 12,
    "start_time": "2022-02-19T09:25:18.454Z"
   },
   {
    "duration": 11,
    "start_time": "2022-02-19T09:25:26.918Z"
   },
   {
    "duration": 11,
    "start_time": "2022-02-19T09:25:30.038Z"
   },
   {
    "duration": 10,
    "start_time": "2022-02-19T09:25:38.700Z"
   },
   {
    "duration": 13,
    "start_time": "2022-02-19T09:25:47.446Z"
   },
   {
    "duration": 11,
    "start_time": "2022-02-19T09:25:49.978Z"
   },
   {
    "duration": 13,
    "start_time": "2022-02-19T09:26:28.806Z"
   },
   {
    "duration": 12,
    "start_time": "2022-02-19T09:26:39.335Z"
   },
   {
    "duration": 13,
    "start_time": "2022-02-19T09:27:01.986Z"
   },
   {
    "duration": 12,
    "start_time": "2022-02-19T09:27:19.826Z"
   },
   {
    "duration": 12,
    "start_time": "2022-02-19T09:27:26.866Z"
   },
   {
    "duration": 9,
    "start_time": "2022-02-19T09:28:26.866Z"
   },
   {
    "duration": 14,
    "start_time": "2022-02-19T09:28:35.146Z"
   },
   {
    "duration": 289,
    "start_time": "2022-02-19T09:28:41.346Z"
   },
   {
    "duration": 13,
    "start_time": "2022-02-19T09:28:52.214Z"
   },
   {
    "duration": 14,
    "start_time": "2022-02-19T09:29:40.865Z"
   },
   {
    "duration": 15,
    "start_time": "2022-02-19T09:30:25.386Z"
   },
   {
    "duration": 14,
    "start_time": "2022-02-19T09:32:06.550Z"
   },
   {
    "duration": 15,
    "start_time": "2022-02-19T09:32:34.026Z"
   },
   {
    "duration": 16,
    "start_time": "2022-02-19T09:32:48.106Z"
   },
   {
    "duration": 19,
    "start_time": "2022-02-19T09:32:52.032Z"
   },
   {
    "duration": 16,
    "start_time": "2022-02-19T09:33:12.838Z"
   },
   {
    "duration": 16,
    "start_time": "2022-02-19T09:33:32.369Z"
   },
   {
    "duration": 3,
    "start_time": "2022-02-19T09:55:06.026Z"
   },
   {
    "duration": 132,
    "start_time": "2022-02-19T09:55:06.030Z"
   },
   {
    "duration": 10,
    "start_time": "2022-02-19T09:55:06.164Z"
   },
   {
    "duration": 24,
    "start_time": "2022-02-19T09:55:06.175Z"
   },
   {
    "duration": 3,
    "start_time": "2022-02-19T09:55:06.201Z"
   },
   {
    "duration": 43,
    "start_time": "2022-02-19T09:55:06.205Z"
   },
   {
    "duration": 3,
    "start_time": "2022-02-19T09:55:06.250Z"
   },
   {
    "duration": 26,
    "start_time": "2022-02-19T09:55:06.255Z"
   },
   {
    "duration": 16,
    "start_time": "2022-02-19T09:55:06.282Z"
   },
   {
    "duration": 45,
    "start_time": "2022-02-19T09:55:06.299Z"
   },
   {
    "duration": 48,
    "start_time": "2022-02-19T09:55:06.346Z"
   },
   {
    "duration": 71,
    "start_time": "2022-02-19T09:55:06.395Z"
   },
   {
    "duration": 43,
    "start_time": "2022-02-19T09:55:06.467Z"
   },
   {
    "duration": 5,
    "start_time": "2022-02-19T09:55:06.512Z"
   },
   {
    "duration": 15,
    "start_time": "2022-02-19T09:55:06.518Z"
   },
   {
    "duration": 22,
    "start_time": "2022-02-19T09:55:06.535Z"
   },
   {
    "duration": 5,
    "start_time": "2022-02-19T09:55:06.558Z"
   },
   {
    "duration": 18,
    "start_time": "2022-02-19T09:55:06.565Z"
   },
   {
    "duration": 140,
    "start_time": "2022-02-19T09:55:06.586Z"
   },
   {
    "duration": 3,
    "start_time": "2022-02-19T09:55:06.731Z"
   },
   {
    "duration": 17,
    "start_time": "2022-02-19T09:55:06.735Z"
   },
   {
    "duration": 12,
    "start_time": "2022-02-19T09:55:06.753Z"
   },
   {
    "duration": 11,
    "start_time": "2022-02-19T09:55:06.767Z"
   },
   {
    "duration": 12,
    "start_time": "2022-02-19T09:55:06.780Z"
   },
   {
    "duration": 42,
    "start_time": "2022-02-19T09:55:06.793Z"
   },
   {
    "duration": 12,
    "start_time": "2022-02-19T09:55:06.837Z"
   },
   {
    "duration": 7,
    "start_time": "2022-02-19T09:55:06.851Z"
   },
   {
    "duration": 11,
    "start_time": "2022-02-19T09:55:06.859Z"
   },
   {
    "duration": 10,
    "start_time": "2022-02-19T09:55:06.871Z"
   },
   {
    "duration": 7,
    "start_time": "2022-02-19T09:55:06.882Z"
   },
   {
    "duration": 215,
    "start_time": "2022-02-19T09:55:06.890Z"
   },
   {
    "duration": 180,
    "start_time": "2022-02-19T09:55:07.107Z"
   },
   {
    "duration": 185,
    "start_time": "2022-02-19T09:55:07.289Z"
   },
   {
    "duration": 178,
    "start_time": "2022-02-19T09:55:07.476Z"
   },
   {
    "duration": 8,
    "start_time": "2022-02-19T09:55:07.656Z"
   },
   {
    "duration": 4,
    "start_time": "2022-02-19T09:55:07.665Z"
   },
   {
    "duration": 5,
    "start_time": "2022-02-19T09:55:07.671Z"
   },
   {
    "duration": 4,
    "start_time": "2022-02-19T09:55:07.678Z"
   },
   {
    "duration": 10,
    "start_time": "2022-02-19T09:55:07.683Z"
   },
   {
    "duration": 45,
    "start_time": "2022-02-19T09:55:07.694Z"
   },
   {
    "duration": 6,
    "start_time": "2022-02-19T09:55:07.741Z"
   },
   {
    "duration": 9,
    "start_time": "2022-02-19T09:55:07.748Z"
   },
   {
    "duration": 4,
    "start_time": "2022-02-19T09:55:07.758Z"
   },
   {
    "duration": 119,
    "start_time": "2022-02-19T09:55:07.764Z"
   },
   {
    "duration": 6,
    "start_time": "2022-02-19T09:55:07.885Z"
   },
   {
    "duration": 192,
    "start_time": "2022-02-19T09:55:07.893Z"
   },
   {
    "duration": 44,
    "start_time": "2022-02-19T09:55:08.087Z"
   },
   {
    "duration": 12,
    "start_time": "2022-02-19T09:55:08.133Z"
   },
   {
    "duration": 14,
    "start_time": "2022-02-19T09:55:08.146Z"
   },
   {
    "duration": 17,
    "start_time": "2022-02-19T09:56:01.234Z"
   },
   {
    "duration": 22,
    "start_time": "2022-02-19T09:59:59.084Z"
   },
   {
    "duration": 21,
    "start_time": "2022-02-19T10:00:10.653Z"
   },
   {
    "duration": 14,
    "start_time": "2022-02-19T10:00:19.299Z"
   },
   {
    "duration": 15,
    "start_time": "2022-02-19T10:00:30.062Z"
   },
   {
    "duration": 16,
    "start_time": "2022-02-19T10:00:37.716Z"
   },
   {
    "duration": 16,
    "start_time": "2022-02-19T10:01:02.708Z"
   },
   {
    "duration": 9,
    "start_time": "2022-02-19T10:03:30.156Z"
   },
   {
    "duration": 13,
    "start_time": "2022-02-19T10:04:45.996Z"
   },
   {
    "duration": 16,
    "start_time": "2022-02-19T10:05:43.460Z"
   },
   {
    "duration": 15,
    "start_time": "2022-02-19T10:06:18.702Z"
   },
   {
    "duration": 15,
    "start_time": "2022-02-19T10:07:24.862Z"
   },
   {
    "duration": 14,
    "start_time": "2022-02-19T10:07:33.141Z"
   },
   {
    "duration": 17,
    "start_time": "2022-02-19T10:07:48.176Z"
   },
   {
    "duration": 14,
    "start_time": "2022-02-19T10:07:53.784Z"
   },
   {
    "duration": 264,
    "start_time": "2022-02-19T10:08:19.910Z"
   },
   {
    "duration": 738,
    "start_time": "2022-02-19T10:08:28.157Z"
   },
   {
    "duration": 89,
    "start_time": "2022-02-19T10:08:56.009Z"
   },
   {
    "duration": 16,
    "start_time": "2022-02-19T10:08:59.769Z"
   },
   {
    "duration": 279,
    "start_time": "2022-02-19T10:09:08.721Z"
   },
   {
    "duration": 20,
    "start_time": "2022-02-19T10:09:16.300Z"
   },
   {
    "duration": 262,
    "start_time": "2022-02-19T10:09:20.549Z"
   },
   {
    "duration": 96,
    "start_time": "2022-02-19T10:10:01.683Z"
   },
   {
    "duration": 34,
    "start_time": "2022-02-19T10:10:07.508Z"
   },
   {
    "duration": 15,
    "start_time": "2022-02-19T10:10:11.959Z"
   },
   {
    "duration": 14,
    "start_time": "2022-02-19T10:10:17.979Z"
   },
   {
    "duration": 14,
    "start_time": "2022-02-19T10:10:40.725Z"
   },
   {
    "duration": 20,
    "start_time": "2022-02-19T10:10:42.230Z"
   },
   {
    "duration": 15,
    "start_time": "2022-02-19T10:10:48.352Z"
   },
   {
    "duration": 14,
    "start_time": "2022-02-19T10:10:51.019Z"
   },
   {
    "duration": 15,
    "start_time": "2022-02-19T10:11:15.704Z"
   },
   {
    "duration": 10,
    "start_time": "2022-02-19T10:13:09.185Z"
   },
   {
    "duration": 8,
    "start_time": "2022-02-19T10:13:15.441Z"
   },
   {
    "duration": 14,
    "start_time": "2022-02-19T10:13:17.172Z"
   },
   {
    "duration": 14,
    "start_time": "2022-02-19T10:15:06.073Z"
   },
   {
    "duration": 16,
    "start_time": "2022-02-19T10:16:02.955Z"
   },
   {
    "duration": 10,
    "start_time": "2022-02-19T10:18:33.412Z"
   },
   {
    "duration": 7,
    "start_time": "2022-02-19T10:18:36.404Z"
   },
   {
    "duration": 14,
    "start_time": "2022-02-19T10:18:37.921Z"
   },
   {
    "duration": 7,
    "start_time": "2022-02-19T10:19:53.429Z"
   },
   {
    "duration": 11,
    "start_time": "2022-02-19T10:19:54.085Z"
   },
   {
    "duration": 15,
    "start_time": "2022-02-19T10:19:54.788Z"
   },
   {
    "duration": 3,
    "start_time": "2022-02-19T10:22:18.525Z"
   },
   {
    "duration": 10,
    "start_time": "2022-02-19T10:22:35.631Z"
   },
   {
    "duration": 10,
    "start_time": "2022-02-19T10:22:44.869Z"
   },
   {
    "duration": 9,
    "start_time": "2022-02-19T10:22:50.660Z"
   },
   {
    "duration": 9,
    "start_time": "2022-02-19T10:22:59.512Z"
   },
   {
    "duration": 9,
    "start_time": "2022-02-19T10:23:06.419Z"
   },
   {
    "duration": 9,
    "start_time": "2022-02-19T10:23:55.212Z"
   },
   {
    "duration": 14,
    "start_time": "2022-02-19T10:23:59.251Z"
   },
   {
    "duration": 7,
    "start_time": "2022-02-19T10:24:01.374Z"
   },
   {
    "duration": 15,
    "start_time": "2022-02-19T10:24:03.448Z"
   },
   {
    "duration": 14,
    "start_time": "2022-02-19T10:24:39.356Z"
   },
   {
    "duration": 15,
    "start_time": "2022-02-19T10:24:50.908Z"
   },
   {
    "duration": 11,
    "start_time": "2022-02-19T10:26:08.841Z"
   },
   {
    "duration": 8,
    "start_time": "2022-02-19T10:26:11.554Z"
   },
   {
    "duration": 15,
    "start_time": "2022-02-19T10:26:19.152Z"
   },
   {
    "duration": 11,
    "start_time": "2022-02-19T10:26:58.619Z"
   },
   {
    "duration": 12,
    "start_time": "2022-02-19T10:27:00.230Z"
   },
   {
    "duration": 11,
    "start_time": "2022-02-19T10:27:01.785Z"
   },
   {
    "duration": 11,
    "start_time": "2022-02-19T10:27:49.488Z"
   },
   {
    "duration": 3,
    "start_time": "2022-02-19T10:29:04.911Z"
   },
   {
    "duration": 8,
    "start_time": "2022-02-19T10:29:09.784Z"
   },
   {
    "duration": 12,
    "start_time": "2022-02-19T10:29:10.452Z"
   },
   {
    "duration": 12,
    "start_time": "2022-02-19T10:29:10.813Z"
   },
   {
    "duration": 13,
    "start_time": "2022-02-19T10:36:54.759Z"
   },
   {
    "duration": 10,
    "start_time": "2022-02-19T10:36:56.656Z"
   },
   {
    "duration": 12,
    "start_time": "2022-02-19T10:36:59.565Z"
   },
   {
    "duration": 17,
    "start_time": "2022-02-19T10:39:25.105Z"
   },
   {
    "duration": 16,
    "start_time": "2022-02-19T10:39:34.409Z"
   },
   {
    "duration": 16,
    "start_time": "2022-02-19T10:39:53.324Z"
   },
   {
    "duration": 16,
    "start_time": "2022-02-19T10:39:58.900Z"
   },
   {
    "duration": 15,
    "start_time": "2022-02-19T10:40:12.308Z"
   },
   {
    "duration": 22,
    "start_time": "2022-02-19T10:40:25.180Z"
   },
   {
    "duration": 22,
    "start_time": "2022-02-19T10:41:23.698Z"
   },
   {
    "duration": 8,
    "start_time": "2022-02-19T10:41:28.714Z"
   },
   {
    "duration": 9,
    "start_time": "2022-02-19T10:41:35.727Z"
   },
   {
    "duration": 9,
    "start_time": "2022-02-19T10:41:40.526Z"
   },
   {
    "duration": 8,
    "start_time": "2022-02-19T10:41:55.257Z"
   },
   {
    "duration": 8,
    "start_time": "2022-02-19T10:41:57.830Z"
   },
   {
    "duration": 311,
    "start_time": "2022-02-19T10:42:04.971Z"
   },
   {
    "duration": 8,
    "start_time": "2022-02-19T10:42:13.444Z"
   },
   {
    "duration": 4,
    "start_time": "2022-02-19T11:56:14.784Z"
   },
   {
    "duration": 8,
    "start_time": "2022-02-19T11:56:16.390Z"
   },
   {
    "duration": 11,
    "start_time": "2022-02-19T11:56:17.826Z"
   },
   {
    "duration": 15,
    "start_time": "2022-02-19T11:56:18.614Z"
   },
   {
    "duration": 8,
    "start_time": "2022-02-19T11:59:12.979Z"
   },
   {
    "duration": 6,
    "start_time": "2022-02-19T11:59:14.661Z"
   },
   {
    "duration": 90,
    "start_time": "2022-02-19T12:00:15.516Z"
   },
   {
    "duration": 15,
    "start_time": "2022-02-19T12:14:12.961Z"
   },
   {
    "duration": 7,
    "start_time": "2022-02-19T12:14:23.199Z"
   },
   {
    "duration": 7,
    "start_time": "2022-02-19T12:14:36.811Z"
   },
   {
    "duration": 9,
    "start_time": "2022-02-19T12:14:45.653Z"
   },
   {
    "duration": 8,
    "start_time": "2022-02-19T12:14:55.137Z"
   },
   {
    "duration": 9,
    "start_time": "2022-02-19T12:19:40.997Z"
   },
   {
    "duration": 10,
    "start_time": "2022-02-19T12:19:41.801Z"
   },
   {
    "duration": 9,
    "start_time": "2022-02-19T12:19:43.336Z"
   },
   {
    "duration": 7,
    "start_time": "2022-02-19T12:19:44.474Z"
   },
   {
    "duration": 11,
    "start_time": "2022-02-19T12:20:22.136Z"
   },
   {
    "duration": 7,
    "start_time": "2022-02-19T12:20:23.392Z"
   },
   {
    "duration": 9,
    "start_time": "2022-02-19T12:20:25.081Z"
   },
   {
    "duration": 6,
    "start_time": "2022-02-19T12:20:25.780Z"
   },
   {
    "duration": 843,
    "start_time": "2022-02-28T19:47:01.679Z"
   },
   {
    "duration": 200,
    "start_time": "2022-02-28T19:47:02.525Z"
   },
   {
    "duration": 29,
    "start_time": "2022-02-28T19:47:02.728Z"
   },
   {
    "duration": 39,
    "start_time": "2022-02-28T19:47:02.759Z"
   },
   {
    "duration": 33,
    "start_time": "2022-02-28T19:47:02.800Z"
   },
   {
    "duration": 33,
    "start_time": "2022-02-28T19:47:02.836Z"
   },
   {
    "duration": 7,
    "start_time": "2022-02-28T19:47:02.871Z"
   },
   {
    "duration": 69,
    "start_time": "2022-02-28T19:47:02.882Z"
   },
   {
    "duration": 37,
    "start_time": "2022-02-28T19:47:02.955Z"
   },
   {
    "duration": 51,
    "start_time": "2022-02-28T19:47:02.995Z"
   },
   {
    "duration": 115,
    "start_time": "2022-02-28T19:47:03.049Z"
   },
   {
    "duration": 136,
    "start_time": "2022-02-28T19:47:03.167Z"
   },
   {
    "duration": 93,
    "start_time": "2022-02-28T19:47:03.305Z"
   },
   {
    "duration": 8,
    "start_time": "2022-02-28T19:47:03.400Z"
   },
   {
    "duration": 22,
    "start_time": "2022-02-28T19:47:03.411Z"
   },
   {
    "duration": 51,
    "start_time": "2022-02-28T19:47:03.436Z"
   },
   {
    "duration": 8,
    "start_time": "2022-02-28T19:47:03.490Z"
   },
   {
    "duration": 52,
    "start_time": "2022-02-28T19:47:03.501Z"
   },
   {
    "duration": 1034,
    "start_time": "2022-02-28T19:47:03.557Z"
   },
   {
    "duration": 6,
    "start_time": "2022-02-28T19:47:04.594Z"
   },
   {
    "duration": 47,
    "start_time": "2022-02-28T19:47:04.603Z"
   },
   {
    "duration": 20,
    "start_time": "2022-02-28T19:47:04.653Z"
   },
   {
    "duration": 21,
    "start_time": "2022-02-28T19:47:04.678Z"
   },
   {
    "duration": 49,
    "start_time": "2022-02-28T19:47:04.702Z"
   },
   {
    "duration": 26,
    "start_time": "2022-02-28T19:47:04.753Z"
   },
   {
    "duration": 60,
    "start_time": "2022-02-28T19:47:04.781Z"
   },
   {
    "duration": 14,
    "start_time": "2022-02-28T19:47:04.843Z"
   },
   {
    "duration": 20,
    "start_time": "2022-02-28T19:47:04.859Z"
   },
   {
    "duration": 16,
    "start_time": "2022-02-28T19:47:04.882Z"
   },
   {
    "duration": 36,
    "start_time": "2022-02-28T19:47:04.900Z"
   },
   {
    "duration": 392,
    "start_time": "2022-02-28T19:47:04.939Z"
   },
   {
    "duration": 402,
    "start_time": "2022-02-28T19:47:05.334Z"
   },
   {
    "duration": 341,
    "start_time": "2022-02-28T19:47:05.739Z"
   },
   {
    "duration": 329,
    "start_time": "2022-02-28T19:47:06.082Z"
   },
   {
    "duration": 22,
    "start_time": "2022-02-28T19:47:06.414Z"
   },
   {
    "duration": 6,
    "start_time": "2022-02-28T19:47:06.438Z"
   },
   {
    "duration": 10,
    "start_time": "2022-02-28T19:47:06.447Z"
   },
   {
    "duration": 6,
    "start_time": "2022-02-28T19:47:06.460Z"
   },
   {
    "duration": 5,
    "start_time": "2022-02-28T19:47:06.469Z"
   },
   {
    "duration": 61,
    "start_time": "2022-02-28T19:47:06.476Z"
   },
   {
    "duration": 14,
    "start_time": "2022-02-28T19:47:06.539Z"
   },
   {
    "duration": 12,
    "start_time": "2022-02-28T19:47:06.555Z"
   },
   {
    "duration": 686,
    "start_time": "2022-02-28T19:47:06.569Z"
   },
   {
    "duration": 17,
    "start_time": "2022-02-28T19:49:37.113Z"
   },
   {
    "duration": 508,
    "start_time": "2022-03-01T12:38:14.559Z"
   },
   {
    "duration": 129,
    "start_time": "2022-03-01T12:38:16.451Z"
   },
   {
    "duration": 15,
    "start_time": "2022-03-01T12:38:18.918Z"
   },
   {
    "duration": 21,
    "start_time": "2022-03-01T12:38:28.549Z"
   },
   {
    "duration": 4,
    "start_time": "2022-03-01T12:38:49.249Z"
   },
   {
    "duration": 4,
    "start_time": "2022-03-01T12:38:57.507Z"
   },
   {
    "duration": 22,
    "start_time": "2022-03-01T12:39:05.731Z"
   },
   {
    "duration": 20,
    "start_time": "2022-03-01T12:39:20.173Z"
   },
   {
    "duration": 57,
    "start_time": "2022-03-01T12:39:26.183Z"
   },
   {
    "duration": 52,
    "start_time": "2022-03-01T12:39:32.830Z"
   },
   {
    "duration": 63,
    "start_time": "2022-03-01T12:39:36.044Z"
   },
   {
    "duration": 47,
    "start_time": "2022-03-01T12:39:38.049Z"
   },
   {
    "duration": 38,
    "start_time": "2022-03-01T12:40:15.881Z"
   },
   {
    "duration": 38,
    "start_time": "2022-03-01T12:41:33.180Z"
   },
   {
    "duration": 292,
    "start_time": "2022-03-01T12:42:33.024Z"
   },
   {
    "duration": 4,
    "start_time": "2022-03-01T12:43:02.566Z"
   },
   {
    "duration": 235,
    "start_time": "2022-03-01T12:43:27.156Z"
   },
   {
    "duration": 2,
    "start_time": "2022-03-01T12:43:33.939Z"
   },
   {
    "duration": 160,
    "start_time": "2022-03-01T12:43:33.943Z"
   },
   {
    "duration": 9,
    "start_time": "2022-03-01T12:43:34.105Z"
   },
   {
    "duration": 9,
    "start_time": "2022-03-01T12:43:34.115Z"
   },
   {
    "duration": 22,
    "start_time": "2022-03-01T12:43:34.126Z"
   },
   {
    "duration": 3,
    "start_time": "2022-03-01T12:43:34.150Z"
   },
   {
    "duration": 18,
    "start_time": "2022-03-01T12:43:34.154Z"
   },
   {
    "duration": 29,
    "start_time": "2022-03-01T12:43:34.174Z"
   },
   {
    "duration": 23,
    "start_time": "2022-03-01T12:43:34.205Z"
   },
   {
    "duration": 15,
    "start_time": "2022-03-01T12:43:34.229Z"
   },
   {
    "duration": 27,
    "start_time": "2022-03-01T12:43:34.246Z"
   },
   {
    "duration": 70,
    "start_time": "2022-03-01T12:43:34.274Z"
   },
   {
    "duration": 60,
    "start_time": "2022-03-01T12:43:34.346Z"
   },
   {
    "duration": 47,
    "start_time": "2022-03-01T12:43:34.408Z"
   },
   {
    "duration": 55,
    "start_time": "2022-03-01T12:43:34.457Z"
   },
   {
    "duration": 3,
    "start_time": "2022-03-01T12:43:34.513Z"
   },
   {
    "duration": 25,
    "start_time": "2022-03-01T12:43:34.517Z"
   },
   {
    "duration": 37,
    "start_time": "2022-03-01T12:43:34.544Z"
   },
   {
    "duration": 31,
    "start_time": "2022-03-01T12:43:34.583Z"
   },
   {
    "duration": 714,
    "start_time": "2022-03-01T12:43:34.616Z"
   },
   {
    "duration": 4,
    "start_time": "2022-03-01T12:43:35.332Z"
   },
   {
    "duration": 28,
    "start_time": "2022-03-01T12:43:35.338Z"
   },
   {
    "duration": 16,
    "start_time": "2022-03-01T12:43:35.368Z"
   },
   {
    "duration": 18,
    "start_time": "2022-03-01T12:43:35.401Z"
   },
   {
    "duration": 11,
    "start_time": "2022-03-01T12:43:35.421Z"
   },
   {
    "duration": 13,
    "start_time": "2022-03-01T12:43:35.434Z"
   },
   {
    "duration": 11,
    "start_time": "2022-03-01T12:43:35.449Z"
   },
   {
    "duration": 8,
    "start_time": "2022-03-01T12:43:35.461Z"
   },
   {
    "duration": 11,
    "start_time": "2022-03-01T12:43:35.501Z"
   },
   {
    "duration": 13,
    "start_time": "2022-03-01T12:43:35.514Z"
   },
   {
    "duration": 5,
    "start_time": "2022-03-01T12:43:35.528Z"
   },
   {
    "duration": 235,
    "start_time": "2022-03-01T12:43:35.535Z"
   },
   {
    "duration": 169,
    "start_time": "2022-03-01T12:43:35.772Z"
   },
   {
    "duration": 180,
    "start_time": "2022-03-01T12:43:35.943Z"
   },
   {
    "duration": 178,
    "start_time": "2022-03-01T12:43:36.125Z"
   },
   {
    "duration": 8,
    "start_time": "2022-03-01T12:43:36.304Z"
   },
   {
    "duration": 4,
    "start_time": "2022-03-01T12:43:36.313Z"
   },
   {
    "duration": 5,
    "start_time": "2022-03-01T12:43:36.318Z"
   },
   {
    "duration": 4,
    "start_time": "2022-03-01T12:43:36.325Z"
   },
   {
    "duration": 3,
    "start_time": "2022-03-01T12:43:36.330Z"
   },
   {
    "duration": 10,
    "start_time": "2022-03-01T12:43:36.334Z"
   },
   {
    "duration": 8,
    "start_time": "2022-03-01T12:43:36.346Z"
   },
   {
    "duration": 8,
    "start_time": "2022-03-01T12:43:36.355Z"
   },
   {
    "duration": 416,
    "start_time": "2022-03-01T12:43:36.364Z"
   },
   {
    "duration": 4,
    "start_time": "2022-03-01T12:44:11.417Z"
   },
   {
    "duration": 6,
    "start_time": "2022-03-01T12:44:22.742Z"
   },
   {
    "duration": 548,
    "start_time": "2022-03-01T15:12:18.653Z"
   },
   {
    "duration": 130,
    "start_time": "2022-03-01T15:12:19.203Z"
   },
   {
    "duration": 18,
    "start_time": "2022-03-01T15:12:19.335Z"
   },
   {
    "duration": 9,
    "start_time": "2022-03-01T15:12:19.355Z"
   },
   {
    "duration": 28,
    "start_time": "2022-03-01T15:12:19.366Z"
   },
   {
    "duration": 4,
    "start_time": "2022-03-01T15:12:19.395Z"
   },
   {
    "duration": 20,
    "start_time": "2022-03-01T15:12:22.474Z"
   },
   {
    "duration": 22,
    "start_time": "2022-03-01T15:12:48.144Z"
   },
   {
    "duration": 4,
    "start_time": "2022-03-01T15:12:52.442Z"
   },
   {
    "duration": 2,
    "start_time": "2022-03-01T15:14:43.915Z"
   },
   {
    "duration": 162,
    "start_time": "2022-03-01T15:14:43.919Z"
   },
   {
    "duration": 9,
    "start_time": "2022-03-01T15:14:44.083Z"
   },
   {
    "duration": 13,
    "start_time": "2022-03-01T15:14:44.094Z"
   },
   {
    "duration": 51,
    "start_time": "2022-03-01T15:14:44.109Z"
   },
   {
    "duration": 6,
    "start_time": "2022-03-01T15:14:44.161Z"
   },
   {
    "duration": 26,
    "start_time": "2022-03-01T15:14:44.169Z"
   },
   {
    "duration": 3,
    "start_time": "2022-03-01T15:14:44.197Z"
   },
   {
    "duration": 44,
    "start_time": "2022-03-01T15:14:44.202Z"
   },
   {
    "duration": 17,
    "start_time": "2022-03-01T15:14:44.248Z"
   },
   {
    "duration": 22,
    "start_time": "2022-03-01T15:14:44.266Z"
   },
   {
    "duration": 75,
    "start_time": "2022-03-01T15:14:44.289Z"
   },
   {
    "duration": 60,
    "start_time": "2022-03-01T15:14:44.365Z"
   },
   {
    "duration": 48,
    "start_time": "2022-03-01T15:14:44.437Z"
   },
   {
    "duration": 52,
    "start_time": "2022-03-01T15:14:44.486Z"
   },
   {
    "duration": 3,
    "start_time": "2022-03-01T15:14:44.540Z"
   },
   {
    "duration": 27,
    "start_time": "2022-03-01T15:14:44.544Z"
   },
   {
    "duration": 39,
    "start_time": "2022-03-01T15:14:44.572Z"
   },
   {
    "duration": 37,
    "start_time": "2022-03-01T15:14:44.614Z"
   },
   {
    "duration": 711,
    "start_time": "2022-03-01T15:14:44.653Z"
   },
   {
    "duration": 4,
    "start_time": "2022-03-01T15:14:45.366Z"
   },
   {
    "duration": 30,
    "start_time": "2022-03-01T15:14:45.371Z"
   },
   {
    "duration": 15,
    "start_time": "2022-03-01T15:14:45.403Z"
   },
   {
    "duration": 35,
    "start_time": "2022-03-01T15:14:45.419Z"
   },
   {
    "duration": 14,
    "start_time": "2022-03-01T15:14:45.456Z"
   },
   {
    "duration": 18,
    "start_time": "2022-03-01T15:14:45.473Z"
   },
   {
    "duration": 51,
    "start_time": "2022-03-01T15:14:45.494Z"
   },
   {
    "duration": 9,
    "start_time": "2022-03-01T15:14:45.546Z"
   },
   {
    "duration": 12,
    "start_time": "2022-03-01T15:14:45.556Z"
   },
   {
    "duration": 14,
    "start_time": "2022-03-01T15:14:45.569Z"
   },
   {
    "duration": 4,
    "start_time": "2022-03-01T15:14:45.585Z"
   },
   {
    "duration": 243,
    "start_time": "2022-03-01T15:14:45.591Z"
   },
   {
    "duration": 201,
    "start_time": "2022-03-01T15:14:45.838Z"
   },
   {
    "duration": 214,
    "start_time": "2022-03-01T15:14:46.041Z"
   },
   {
    "duration": 208,
    "start_time": "2022-03-01T15:14:46.257Z"
   },
   {
    "duration": 8,
    "start_time": "2022-03-01T15:14:46.467Z"
   },
   {
    "duration": 5,
    "start_time": "2022-03-01T15:14:46.477Z"
   },
   {
    "duration": 7,
    "start_time": "2022-03-01T15:14:46.483Z"
   },
   {
    "duration": 4,
    "start_time": "2022-03-01T15:14:46.492Z"
   },
   {
    "duration": 5,
    "start_time": "2022-03-01T15:14:46.498Z"
   },
   {
    "duration": 42,
    "start_time": "2022-03-01T15:14:46.505Z"
   },
   {
    "duration": 10,
    "start_time": "2022-03-01T15:14:46.549Z"
   },
   {
    "duration": 9,
    "start_time": "2022-03-01T15:14:46.561Z"
   },
   {
    "duration": 316,
    "start_time": "2022-03-01T15:14:46.571Z"
   },
   {
    "duration": 40,
    "start_time": "2022-03-01T15:17:18.811Z"
   },
   {
    "duration": 3,
    "start_time": "2022-03-01T15:19:58.063Z"
   },
   {
    "duration": 29,
    "start_time": "2022-03-01T15:20:07.858Z"
   },
   {
    "duration": 14,
    "start_time": "2022-03-01T15:20:15.020Z"
   },
   {
    "duration": 35,
    "start_time": "2022-03-01T15:20:27.858Z"
   },
   {
    "duration": 3,
    "start_time": "2022-03-01T15:20:46.310Z"
   },
   {
    "duration": 35,
    "start_time": "2022-03-01T15:20:48.297Z"
   },
   {
    "duration": 11,
    "start_time": "2022-03-01T15:20:50.965Z"
   },
   {
    "duration": 3,
    "start_time": "2022-03-01T15:20:56.318Z"
   },
   {
    "duration": 148,
    "start_time": "2022-03-01T15:20:56.323Z"
   },
   {
    "duration": 11,
    "start_time": "2022-03-01T15:20:56.473Z"
   },
   {
    "duration": 12,
    "start_time": "2022-03-01T15:20:56.485Z"
   },
   {
    "duration": 39,
    "start_time": "2022-03-01T15:20:56.498Z"
   },
   {
    "duration": 5,
    "start_time": "2022-03-01T15:20:56.539Z"
   },
   {
    "duration": 22,
    "start_time": "2022-03-01T15:20:56.546Z"
   },
   {
    "duration": 4,
    "start_time": "2022-03-01T15:20:56.569Z"
   },
   {
    "duration": 23,
    "start_time": "2022-03-01T15:20:56.575Z"
   },
   {
    "duration": 41,
    "start_time": "2022-03-01T15:20:56.600Z"
   },
   {
    "duration": 22,
    "start_time": "2022-03-01T15:20:56.642Z"
   },
   {
    "duration": 53,
    "start_time": "2022-03-01T15:20:56.665Z"
   },
   {
    "duration": 71,
    "start_time": "2022-03-01T15:20:56.720Z"
   },
   {
    "duration": 60,
    "start_time": "2022-03-01T15:20:56.793Z"
   },
   {
    "duration": 36,
    "start_time": "2022-03-01T15:20:56.855Z"
   },
   {
    "duration": 2,
    "start_time": "2022-03-01T15:20:56.893Z"
   },
   {
    "duration": 42,
    "start_time": "2022-03-01T15:20:56.897Z"
   },
   {
    "duration": 10,
    "start_time": "2022-03-01T15:20:56.941Z"
   },
   {
    "duration": 3,
    "start_time": "2022-03-01T15:22:09.772Z"
   },
   {
    "duration": 36,
    "start_time": "2022-03-01T15:22:12.289Z"
   },
   {
    "duration": 12,
    "start_time": "2022-03-01T15:22:14.133Z"
   },
   {
    "duration": 3,
    "start_time": "2022-03-01T15:22:17.766Z"
   },
   {
    "duration": 145,
    "start_time": "2022-03-01T15:22:17.770Z"
   },
   {
    "duration": 10,
    "start_time": "2022-03-01T15:22:17.917Z"
   },
   {
    "duration": 16,
    "start_time": "2022-03-01T15:22:17.928Z"
   },
   {
    "duration": 25,
    "start_time": "2022-03-01T15:22:17.946Z"
   },
   {
    "duration": 3,
    "start_time": "2022-03-01T15:22:17.973Z"
   },
   {
    "duration": 11,
    "start_time": "2022-03-01T15:22:17.979Z"
   },
   {
    "duration": 4,
    "start_time": "2022-03-01T15:22:17.992Z"
   },
   {
    "duration": 48,
    "start_time": "2022-03-01T15:22:17.998Z"
   },
   {
    "duration": 17,
    "start_time": "2022-03-01T15:22:18.048Z"
   },
   {
    "duration": 23,
    "start_time": "2022-03-01T15:22:18.067Z"
   },
   {
    "duration": 73,
    "start_time": "2022-03-01T15:22:18.091Z"
   },
   {
    "duration": 74,
    "start_time": "2022-03-01T15:22:18.166Z"
   },
   {
    "duration": 52,
    "start_time": "2022-03-01T15:22:18.241Z"
   },
   {
    "duration": 51,
    "start_time": "2022-03-01T15:22:18.295Z"
   },
   {
    "duration": 9,
    "start_time": "2022-03-01T15:22:18.348Z"
   },
   {
    "duration": 41,
    "start_time": "2022-03-01T15:22:18.359Z"
   },
   {
    "duration": 40,
    "start_time": "2022-03-01T15:22:18.402Z"
   },
   {
    "duration": 3,
    "start_time": "2022-03-01T15:23:34.295Z"
   },
   {
    "duration": 20,
    "start_time": "2022-03-01T15:23:37.635Z"
   },
   {
    "duration": 38,
    "start_time": "2022-03-01T15:23:40.376Z"
   },
   {
    "duration": 10,
    "start_time": "2022-03-01T15:48:59.472Z"
   },
   {
    "duration": 7,
    "start_time": "2022-03-01T15:49:17.681Z"
   },
   {
    "duration": 5,
    "start_time": "2022-03-01T15:50:04.674Z"
   },
   {
    "duration": 6,
    "start_time": "2022-03-01T15:50:10.078Z"
   },
   {
    "duration": 4,
    "start_time": "2022-03-01T15:51:35.853Z"
   },
   {
    "duration": 3,
    "start_time": "2022-03-01T15:51:50.394Z"
   },
   {
    "duration": 71,
    "start_time": "2022-03-01T15:54:58.023Z"
   },
   {
    "duration": 67,
    "start_time": "2022-03-01T15:55:26.615Z"
   },
   {
    "duration": 67,
    "start_time": "2022-03-01T15:55:34.290Z"
   },
   {
    "duration": 78,
    "start_time": "2022-03-01T15:57:01.233Z"
   },
   {
    "duration": 80,
    "start_time": "2022-03-01T15:57:10.605Z"
   },
   {
    "duration": 63,
    "start_time": "2022-03-01T16:01:38.538Z"
   },
   {
    "duration": 4,
    "start_time": "2022-03-01T16:01:45.981Z"
   },
   {
    "duration": 68,
    "start_time": "2022-03-01T16:02:18.703Z"
   },
   {
    "duration": 4,
    "start_time": "2022-03-01T16:02:21.288Z"
   },
   {
    "duration": 8,
    "start_time": "2022-03-01T16:02:57.671Z"
   },
   {
    "duration": 8,
    "start_time": "2022-03-01T16:03:20.800Z"
   },
   {
    "duration": 8,
    "start_time": "2022-03-01T16:03:29.115Z"
   },
   {
    "duration": 9,
    "start_time": "2022-03-01T16:04:09.755Z"
   },
   {
    "duration": 68,
    "start_time": "2022-03-01T16:04:49.482Z"
   },
   {
    "duration": 78,
    "start_time": "2022-03-01T16:05:31.091Z"
   },
   {
    "duration": 8,
    "start_time": "2022-03-01T16:05:36.421Z"
   },
   {
    "duration": 3,
    "start_time": "2022-03-01T16:08:31.090Z"
   },
   {
    "duration": 178,
    "start_time": "2022-03-01T16:08:31.095Z"
   },
   {
    "duration": 10,
    "start_time": "2022-03-01T16:08:31.275Z"
   },
   {
    "duration": 15,
    "start_time": "2022-03-01T16:08:31.287Z"
   },
   {
    "duration": 45,
    "start_time": "2022-03-01T16:08:31.304Z"
   },
   {
    "duration": 7,
    "start_time": "2022-03-01T16:08:31.351Z"
   },
   {
    "duration": 17,
    "start_time": "2022-03-01T16:08:31.360Z"
   },
   {
    "duration": 4,
    "start_time": "2022-03-01T16:08:31.379Z"
   },
   {
    "duration": 27,
    "start_time": "2022-03-01T16:08:31.385Z"
   },
   {
    "duration": 41,
    "start_time": "2022-03-01T16:08:31.414Z"
   },
   {
    "duration": 27,
    "start_time": "2022-03-01T16:08:31.457Z"
   },
   {
    "duration": 67,
    "start_time": "2022-03-01T16:08:31.486Z"
   },
   {
    "duration": 65,
    "start_time": "2022-03-01T16:08:31.555Z"
   },
   {
    "duration": 68,
    "start_time": "2022-03-01T16:08:31.622Z"
   },
   {
    "duration": 54,
    "start_time": "2022-03-01T16:08:31.691Z"
   },
   {
    "duration": 3,
    "start_time": "2022-03-01T16:08:31.747Z"
   },
   {
    "duration": 37,
    "start_time": "2022-03-01T16:08:31.752Z"
   },
   {
    "duration": 52,
    "start_time": "2022-03-01T16:08:31.791Z"
   },
   {
    "duration": 35,
    "start_time": "2022-03-01T16:08:31.848Z"
   },
   {
    "duration": 164,
    "start_time": "2022-03-01T16:08:31.885Z"
   },
   {
    "duration": 3,
    "start_time": "2022-03-01T16:08:32.051Z"
   },
   {
    "duration": 110,
    "start_time": "2022-03-01T16:08:32.056Z"
   },
   {
    "duration": 11,
    "start_time": "2022-03-01T16:08:32.168Z"
   },
   {
    "duration": 17,
    "start_time": "2022-03-01T16:08:32.181Z"
   },
   {
    "duration": 22,
    "start_time": "2022-03-01T16:08:32.200Z"
   },
   {
    "duration": 5,
    "start_time": "2022-03-01T16:08:32.238Z"
   },
   {
    "duration": 242,
    "start_time": "2022-03-01T16:08:32.245Z"
   },
   {
    "duration": 202,
    "start_time": "2022-03-01T16:08:32.488Z"
   },
   {
    "duration": 208,
    "start_time": "2022-03-01T16:08:32.691Z"
   },
   {
    "duration": 211,
    "start_time": "2022-03-01T16:08:32.901Z"
   },
   {
    "duration": 8,
    "start_time": "2022-03-01T16:08:33.113Z"
   },
   {
    "duration": 5,
    "start_time": "2022-03-01T16:08:33.123Z"
   },
   {
    "duration": 6,
    "start_time": "2022-03-01T16:08:33.138Z"
   },
   {
    "duration": 4,
    "start_time": "2022-03-01T16:08:33.146Z"
   },
   {
    "duration": 6,
    "start_time": "2022-03-01T16:08:33.152Z"
   },
   {
    "duration": 10,
    "start_time": "2022-03-01T16:08:33.159Z"
   },
   {
    "duration": 10,
    "start_time": "2022-03-01T16:08:33.171Z"
   },
   {
    "duration": 8,
    "start_time": "2022-03-01T16:08:33.182Z"
   },
   {
    "duration": 10,
    "start_time": "2022-03-01T16:08:33.192Z"
   },
   {
    "duration": 131,
    "start_time": "2022-03-01T16:10:59.236Z"
   },
   {
    "duration": 3,
    "start_time": "2022-03-01T16:14:07.488Z"
   },
   {
    "duration": 134,
    "start_time": "2022-03-01T16:14:07.493Z"
   },
   {
    "duration": 11,
    "start_time": "2022-03-01T16:14:07.638Z"
   },
   {
    "duration": 10,
    "start_time": "2022-03-01T16:14:07.651Z"
   },
   {
    "duration": 26,
    "start_time": "2022-03-01T16:14:07.663Z"
   },
   {
    "duration": 4,
    "start_time": "2022-03-01T16:14:07.690Z"
   },
   {
    "duration": 51,
    "start_time": "2022-03-01T16:14:07.696Z"
   },
   {
    "duration": 4,
    "start_time": "2022-03-01T16:14:07.749Z"
   },
   {
    "duration": 48,
    "start_time": "2022-03-01T16:14:07.754Z"
   },
   {
    "duration": 19,
    "start_time": "2022-03-01T16:14:07.804Z"
   },
   {
    "duration": 29,
    "start_time": "2022-03-01T16:14:07.825Z"
   },
   {
    "duration": 56,
    "start_time": "2022-03-01T16:14:07.856Z"
   },
   {
    "duration": 76,
    "start_time": "2022-03-01T16:14:07.913Z"
   },
   {
    "duration": 58,
    "start_time": "2022-03-01T16:14:07.990Z"
   },
   {
    "duration": 40,
    "start_time": "2022-03-01T16:14:08.049Z"
   },
   {
    "duration": 5,
    "start_time": "2022-03-01T16:14:08.090Z"
   },
   {
    "duration": 25,
    "start_time": "2022-03-01T16:14:08.097Z"
   },
   {
    "duration": 41,
    "start_time": "2022-03-01T16:14:08.138Z"
   },
   {
    "duration": 21,
    "start_time": "2022-03-01T16:14:08.183Z"
   },
   {
    "duration": 158,
    "start_time": "2022-03-01T16:14:08.206Z"
   },
   {
    "duration": 4,
    "start_time": "2022-03-01T16:14:08.366Z"
   },
   {
    "duration": 92,
    "start_time": "2022-03-01T16:14:08.371Z"
   },
   {
    "duration": 7,
    "start_time": "2022-03-01T16:14:08.465Z"
   },
   {
    "duration": 12,
    "start_time": "2022-03-01T16:14:08.473Z"
   },
   {
    "duration": 10,
    "start_time": "2022-03-01T16:14:08.487Z"
   },
   {
    "duration": 9,
    "start_time": "2022-03-01T16:14:08.499Z"
   },
   {
    "duration": 229,
    "start_time": "2022-03-01T16:14:08.509Z"
   },
   {
    "duration": 213,
    "start_time": "2022-03-01T16:14:08.739Z"
   },
   {
    "duration": 212,
    "start_time": "2022-03-01T16:14:08.954Z"
   },
   {
    "duration": 292,
    "start_time": "2022-03-01T16:14:09.168Z"
   },
   {
    "duration": 9,
    "start_time": "2022-03-01T16:14:09.462Z"
   },
   {
    "duration": 4,
    "start_time": "2022-03-01T16:14:09.473Z"
   },
   {
    "duration": 8,
    "start_time": "2022-03-01T16:14:09.478Z"
   },
   {
    "duration": 4,
    "start_time": "2022-03-01T16:14:09.488Z"
   },
   {
    "duration": 4,
    "start_time": "2022-03-01T16:14:09.494Z"
   },
   {
    "duration": 43,
    "start_time": "2022-03-01T16:14:09.500Z"
   },
   {
    "duration": 10,
    "start_time": "2022-03-01T16:14:09.545Z"
   },
   {
    "duration": 8,
    "start_time": "2022-03-01T16:14:09.557Z"
   },
   {
    "duration": 13,
    "start_time": "2022-03-01T16:14:09.566Z"
   },
   {
    "duration": 667,
    "start_time": "2022-03-01T19:29:19.882Z"
   },
   {
    "duration": 193,
    "start_time": "2022-03-01T19:29:20.551Z"
   },
   {
    "duration": 28,
    "start_time": "2022-03-01T19:29:20.751Z"
   },
   {
    "duration": 16,
    "start_time": "2022-03-01T19:29:20.782Z"
   },
   {
    "duration": 70,
    "start_time": "2022-03-01T19:29:20.800Z"
   },
   {
    "duration": 7,
    "start_time": "2022-03-01T19:29:20.872Z"
   },
   {
    "duration": 27,
    "start_time": "2022-03-01T19:29:20.881Z"
   },
   {
    "duration": 6,
    "start_time": "2022-03-01T19:29:20.912Z"
   },
   {
    "duration": 38,
    "start_time": "2022-03-01T19:29:20.954Z"
   },
   {
    "duration": 22,
    "start_time": "2022-03-01T19:29:20.995Z"
   },
   {
    "duration": 55,
    "start_time": "2022-03-01T19:29:21.019Z"
   },
   {
    "duration": 94,
    "start_time": "2022-03-01T19:29:21.076Z"
   },
   {
    "duration": 109,
    "start_time": "2022-03-01T19:29:21.173Z"
   },
   {
    "duration": 83,
    "start_time": "2022-03-01T19:29:21.284Z"
   },
   {
    "duration": 57,
    "start_time": "2022-03-01T19:29:21.369Z"
   },
   {
    "duration": 21,
    "start_time": "2022-03-01T19:29:21.430Z"
   },
   {
    "duration": 33,
    "start_time": "2022-03-01T19:29:21.455Z"
   },
   {
    "duration": 80,
    "start_time": "2022-03-01T19:29:21.490Z"
   },
   {
    "duration": 29,
    "start_time": "2022-03-01T19:29:21.573Z"
   },
   {
    "duration": 1038,
    "start_time": "2022-03-01T19:29:21.605Z"
   },
   {
    "duration": 6,
    "start_time": "2022-03-01T19:29:22.646Z"
   },
   {
    "duration": 106,
    "start_time": "2022-03-01T19:29:22.655Z"
   },
   {
    "duration": 11,
    "start_time": "2022-03-01T19:29:22.766Z"
   },
   {
    "duration": 19,
    "start_time": "2022-03-01T19:29:22.781Z"
   },
   {
    "duration": 48,
    "start_time": "2022-03-01T19:29:22.803Z"
   },
   {
    "duration": 6,
    "start_time": "2022-03-01T19:29:22.854Z"
   },
   {
    "duration": 352,
    "start_time": "2022-03-01T19:29:22.862Z"
   },
   {
    "duration": 348,
    "start_time": "2022-03-01T19:29:23.216Z"
   },
   {
    "duration": 347,
    "start_time": "2022-03-01T19:29:23.566Z"
   },
   {
    "duration": 324,
    "start_time": "2022-03-01T19:29:23.915Z"
   },
   {
    "duration": 18,
    "start_time": "2022-03-01T19:29:24.241Z"
   },
   {
    "duration": 6,
    "start_time": "2022-03-01T19:29:24.261Z"
   },
   {
    "duration": 8,
    "start_time": "2022-03-01T19:29:24.270Z"
   },
   {
    "duration": 6,
    "start_time": "2022-03-01T19:29:24.281Z"
   },
   {
    "duration": 5,
    "start_time": "2022-03-01T19:29:24.289Z"
   },
   {
    "duration": 63,
    "start_time": "2022-03-01T19:29:24.296Z"
   },
   {
    "duration": 14,
    "start_time": "2022-03-01T19:29:24.362Z"
   },
   {
    "duration": 14,
    "start_time": "2022-03-01T19:29:24.378Z"
   },
   {
    "duration": 659,
    "start_time": "2022-03-01T19:29:24.395Z"
   },
   {
    "duration": 897,
    "start_time": "2022-03-01T19:39:13.059Z"
   },
   {
    "duration": 30,
    "start_time": "2022-03-01T19:39:23.349Z"
   }
  ],
  "colab": {
   "collapsed_sections": [
    "E0vqbgi9ay0H",
    "VUC88oWjTJw2"
   ],
   "name": "yandex_music_project_2021.2.ipynb",
   "provenance": []
  },
  "kernelspec": {
   "display_name": "Python 3 (ipykernel)",
   "language": "python",
   "name": "python3"
  },
  "language_info": {
   "codemirror_mode": {
    "name": "ipython",
    "version": 3
   },
   "file_extension": ".py",
   "mimetype": "text/x-python",
   "name": "python",
   "nbconvert_exporter": "python",
   "pygments_lexer": "ipython3",
   "version": "3.9.13"
  },
  "toc": {
   "base_numbering": 1,
   "nav_menu": {},
   "number_sections": true,
   "sideBar": false,
   "skip_h1_title": true,
   "title_cell": "Table of Contents",
   "title_sidebar": "Contents",
   "toc_cell": false,
   "toc_position": {
    "height": "calc(100% - 180px)",
    "left": "10px",
    "top": "150px",
    "width": "203.391px"
   },
   "toc_section_display": false,
   "toc_window_display": false
  }
 },
 "nbformat": 4,
 "nbformat_minor": 1
}
